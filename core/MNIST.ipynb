{
 "cells": [
  {
   "cell_type": "code",
   "execution_count": 1,
   "metadata": {
    "collapsed": true
   },
   "outputs": [],
   "source": [
    "import numpy as np\n",
    "import pandas as pd\n",
    "import seaborn as sb\n",
    "import tensorflow as tf\n",
    "\n",
    "from tensorflow.keras.models import Sequential      # class\n",
    "from tensorflow.keras.models import load_model      # model 사용\n",
    "from tensorflow.keras.layers import Flatten           # 전결합\n",
    "from tensorflow.keras.layers import Dense           # 전결합\n",
    "from tensorflow.keras.layers import Dropout         # 노드의 비활성화\n",
    "from tensorflow.keras.callbacks import EarlyStopping # 학습 자동 중지\n",
    "from tensorflow.keras import regularizers   # L1, L2 규제 적용\n",
    "\n",
    "from sklearn.preprocessing import LabelEncoder\n",
    "from sklearn.model_selection import train_test_split\n",
    "from sklearn.model_selection import StratifiedKFold  # K 겹 교차 검증\n",
    "from sklearn.metrics import confusion_matrix\n",
    "from sklearn.metrics import roc_curve\n",
    "\n",
    "from tensorflow.keras.datasets import mnist           # 전결합\n",
    "\n",
    "import matplotlib\n",
    "import matplotlib.pyplot as plt\n",
    "from matplotlib import font_manager, rc"
   ]
  },
  {
   "cell_type": "code",
   "execution_count": 12,
   "outputs": [
    {
     "name": "stdout",
     "output_type": "stream",
     "text": [
      "(60000, 28, 28)\n",
      "(60000,)\n",
      "(10000, 28, 28)\n",
      "(10000,)\n"
     ]
    }
   ],
   "source": [
    "(x_train, y_train), (x_test, y_test) = mnist.load_data()\n",
    "print(x_train.shape)\n",
    "print(y_train.shape)\n",
    "\n",
    "print(x_test.shape)\n",
    "print(y_test.shape)"
   ],
   "metadata": {
    "collapsed": false,
    "pycharm": {
     "name": "#%%\n"
    }
   }
  },
  {
   "cell_type": "code",
   "execution_count": 18,
   "outputs": [
    {
     "name": "stdout",
     "output_type": "stream",
     "text": [
      "5\n"
     ]
    },
    {
     "data": {
      "text/plain": "<Figure size 432x288 with 1 Axes>",
      "image/png": "[encoded data removed]"
     },
     "metadata": {
      "needs_background": "light"
     },
     "output_type": "display_data"
    }
   ],
   "source": [
    "plt.imshow(x_train[0], cmap=plt.get_cmap('binary'))\n",
    "print(y_train[0])"
   ],
   "metadata": {
    "collapsed": false,
    "pycharm": {
     "name": "#%%\n"
    }
   }
  },
  {
   "cell_type": "code",
   "execution_count": 19,
   "outputs": [
    {
     "name": "stdout",
     "output_type": "stream",
     "text": [
      "0\n"
     ]
    },
    {
     "data": {
      "text/plain": "<Figure size 432x288 with 1 Axes>",
      "image/png": "[encoded data removed]"
     },
     "metadata": {
      "needs_background": "light"
     },
     "output_type": "display_data"
    }
   ],
   "source": [
    "plt.imshow(x_train[1], cmap=plt.get_cmap('binary'))\n",
    "print(y_train[1])"
   ],
   "metadata": {
    "collapsed": false,
    "pycharm": {
     "name": "#%%\n"
    }
   }
  },
  {
   "cell_type": "code",
   "execution_count": 20,
   "outputs": [
    {
     "data": {
      "text/plain": "array([[  0,   0,   0,   0,   0,   0,   0,   0,   0,   0,   0,   0,   0,\n          0,   0,   0,   0,   0,   0,   0,   0,   0,   0,   0,   0,   0,\n          0,   0],\n       [  0,   0,   0,   0,   0,   0,   0,   0,   0,   0,   0,   0,   0,\n          0,   0,   0,   0,   0,   0,   0,   0,   0,   0,   0,   0,   0,\n          0,   0],\n       [  0,   0,   0,   0,   0,   0,   0,   0,   0,   0,   0,   0,   0,\n          0,   0,   0,   0,   0,   0,   0,   0,   0,   0,   0,   0,   0,\n          0,   0],\n       [  0,   0,   0,   0,   0,   0,   0,   0,   0,   0,   0,   0,   0,\n          0,   0,   0,   0,   0,   0,   0,   0,   0,   0,   0,   0,   0,\n          0,   0],\n       [  0,   0,   0,   0,   0,   0,   0,   0,   0,   0,   0,   0,   0,\n          0,   0,  51, 159, 253, 159,  50,   0,   0,   0,   0,   0,   0,\n          0,   0],\n       [  0,   0,   0,   0,   0,   0,   0,   0,   0,   0,   0,   0,   0,\n          0,  48, 238, 252, 252, 252, 237,   0,   0,   0,   0,   0,   0,\n          0,   0],\n       [  0,   0,   0,   0,   0,   0,   0,   0,   0,   0,   0,   0,   0,\n         54, 227, 253, 252, 239, 233, 252,  57,   6,   0,   0,   0,   0,\n          0,   0],\n       [  0,   0,   0,   0,   0,   0,   0,   0,   0,   0,   0,  10,  60,\n        224, 252, 253, 252, 202,  84, 252, 253, 122,   0,   0,   0,   0,\n          0,   0],\n       [  0,   0,   0,   0,   0,   0,   0,   0,   0,   0,   0, 163, 252,\n        252, 252, 253, 252, 252,  96, 189, 253, 167,   0,   0,   0,   0,\n          0,   0],\n       [  0,   0,   0,   0,   0,   0,   0,   0,   0,   0,  51, 238, 253,\n        253, 190, 114, 253, 228,  47,  79, 255, 168,   0,   0,   0,   0,\n          0,   0],\n       [  0,   0,   0,   0,   0,   0,   0,   0,   0,  48, 238, 252, 252,\n        179,  12,  75, 121,  21,   0,   0, 253, 243,  50,   0,   0,   0,\n          0,   0],\n       [  0,   0,   0,   0,   0,   0,   0,   0,  38, 165, 253, 233, 208,\n         84,   0,   0,   0,   0,   0,   0, 253, 252, 165,   0,   0,   0,\n          0,   0],\n       [  0,   0,   0,   0,   0,   0,   0,   7, 178, 252, 240,  71,  19,\n         28,   0,   0,   0,   0,   0,   0, 253, 252, 195,   0,   0,   0,\n          0,   0],\n       [  0,   0,   0,   0,   0,   0,   0,  57, 252, 252,  63,   0,   0,\n          0,   0,   0,   0,   0,   0,   0, 253, 252, 195,   0,   0,   0,\n          0,   0],\n       [  0,   0,   0,   0,   0,   0,   0, 198, 253, 190,   0,   0,   0,\n          0,   0,   0,   0,   0,   0,   0, 255, 253, 196,   0,   0,   0,\n          0,   0],\n       [  0,   0,   0,   0,   0,   0,  76, 246, 252, 112,   0,   0,   0,\n          0,   0,   0,   0,   0,   0,   0, 253, 252, 148,   0,   0,   0,\n          0,   0],\n       [  0,   0,   0,   0,   0,   0,  85, 252, 230,  25,   0,   0,   0,\n          0,   0,   0,   0,   0,   7, 135, 253, 186,  12,   0,   0,   0,\n          0,   0],\n       [  0,   0,   0,   0,   0,   0,  85, 252, 223,   0,   0,   0,   0,\n          0,   0,   0,   0,   7, 131, 252, 225,  71,   0,   0,   0,   0,\n          0,   0],\n       [  0,   0,   0,   0,   0,   0,  85, 252, 145,   0,   0,   0,   0,\n          0,   0,   0,  48, 165, 252, 173,   0,   0,   0,   0,   0,   0,\n          0,   0],\n       [  0,   0,   0,   0,   0,   0,  86, 253, 225,   0,   0,   0,   0,\n          0,   0, 114, 238, 253, 162,   0,   0,   0,   0,   0,   0,   0,\n          0,   0],\n       [  0,   0,   0,   0,   0,   0,  85, 252, 249, 146,  48,  29,  85,\n        178, 225, 253, 223, 167,  56,   0,   0,   0,   0,   0,   0,   0,\n          0,   0],\n       [  0,   0,   0,   0,   0,   0,  85, 252, 252, 252, 229, 215, 252,\n        252, 252, 196, 130,   0,   0,   0,   0,   0,   0,   0,   0,   0,\n          0,   0],\n       [  0,   0,   0,   0,   0,   0,  28, 199, 252, 252, 253, 252, 252,\n        233, 145,   0,   0,   0,   0,   0,   0,   0,   0,   0,   0,   0,\n          0,   0],\n       [  0,   0,   0,   0,   0,   0,   0,  25, 128, 252, 253, 252, 141,\n         37,   0,   0,   0,   0,   0,   0,   0,   0,   0,   0,   0,   0,\n          0,   0],\n       [  0,   0,   0,   0,   0,   0,   0,   0,   0,   0,   0,   0,   0,\n          0,   0,   0,   0,   0,   0,   0,   0,   0,   0,   0,   0,   0,\n          0,   0],\n       [  0,   0,   0,   0,   0,   0,   0,   0,   0,   0,   0,   0,   0,\n          0,   0,   0,   0,   0,   0,   0,   0,   0,   0,   0,   0,   0,\n          0,   0],\n       [  0,   0,   0,   0,   0,   0,   0,   0,   0,   0,   0,   0,   0,\n          0,   0,   0,   0,   0,   0,   0,   0,   0,   0,   0,   0,   0,\n          0,   0],\n       [  0,   0,   0,   0,   0,   0,   0,   0,   0,   0,   0,   0,   0,\n          0,   0,   0,   0,   0,   0,   0,   0,   0,   0,   0,   0,   0,\n          0,   0]], dtype=uint8)"
     },
     "execution_count": 20,
     "metadata": {},
     "output_type": "execute_result"
    }
   ],
   "source": [
    "x_train[1]"
   ],
   "metadata": {
    "collapsed": false,
    "pycharm": {
     "name": "#%%\n"
    }
   }
  },
  {
   "cell_type": "code",
   "execution_count": 21,
   "outputs": [],
   "source": [
    "x_train, x_test = x_train / 255.0, x_test  / 255.0"
   ],
   "metadata": {
    "collapsed": false,
    "pycharm": {
     "name": "#%%\n"
    }
   }
  },
  {
   "cell_type": "code",
   "execution_count": 103,
   "outputs": [],
   "source": [
    "model = Sequential([\n",
    "    Flatten(input_shape=(28, 28)),\n",
    "    Dense(128, activation='relu'),\n",
    "    Dropout(0.4),\n",
    "    Dense(256, activation='relu'),\n",
    "    Dropout(0.4),\n",
    "    Dense(128, activation='relu'),\n",
    "    Dropout(0.4),\n",
    "    Dense(10, activation='softmax')\n",
    "])\n",
    "\n",
    "model.compile(optimizer='adam',\n",
    "              loss='sparse_categorical_crossentropy',\n",
    "              metrics=['accuracy'])\n",
    "\n",
    "es= EarlyStopping(monitor='loss', patience=5, restore_best_weights=True)"
   ],
   "metadata": {
    "collapsed": false,
    "pycharm": {
     "name": "#%%\n"
    }
   }
  },
  {
   "cell_type": "code",
   "execution_count": 96,
   "outputs": [
    {
     "name": "stdout",
     "output_type": "stream",
     "text": [
      "Model: \"sequential_2\"\n",
      "_________________________________________________________________\n",
      "Layer (type)                 Output Shape              Param #   \n",
      "=================================================================\n",
      "flatten_2 (Flatten)          (None, 784)               0         \n",
      "_________________________________________________________________\n",
      "dense_6 (Dense)              (None, 128)               100480    \n",
      "_________________________________________________________________\n",
      "dropout_3 (Dropout)          (None, 128)               0         \n",
      "_________________________________________________________________\n",
      "dense_7 (Dense)              (None, 256)               33024     \n",
      "_________________________________________________________________\n",
      "dropout_4 (Dropout)          (None, 256)               0         \n",
      "_________________________________________________________________\n",
      "dense_8 (Dense)              (None, 128)               32896     \n",
      "_________________________________________________________________\n",
      "dropout_5 (Dropout)          (None, 128)               0         \n",
      "_________________________________________________________________\n",
      "dense_9 (Dense)              (None, 10)                1290      \n",
      "=================================================================\n",
      "Total params: 167,690\n",
      "Trainable params: 167,690\n",
      "Non-trainable params: 0\n",
      "_________________________________________________________________\n"
     ]
    }
   ],
   "source": [
    "model.summary()"
   ],
   "metadata": {
    "collapsed": false,
    "pycharm": {
     "name": "#%%\n"
    }
   }
  },
  {
   "cell_type": "code",
   "execution_count": 104,
   "outputs": [
    {
     "name": "stdout",
     "output_type": "stream",
     "text": [
      "Epoch 1/100\n",
      "96/96 [==============================] - 1s 11ms/step - loss: 1.4727 - accuracy: 0.4992 - val_loss: 0.2688 - val_accuracy: 0.9215\n",
      "Epoch 2/100\n",
      "96/96 [==============================] - 1s 8ms/step - loss: 0.3981 - accuracy: 0.8864 - val_loss: 0.1819 - val_accuracy: 0.9454\n",
      "Epoch 3/100\n",
      "96/96 [==============================] - 1s 8ms/step - loss: 0.2917 - accuracy: 0.9165 - val_loss: 0.1486 - val_accuracy: 0.9572\n",
      "Epoch 4/100\n",
      "96/96 [==============================] - 1s 8ms/step - loss: 0.2468 - accuracy: 0.9303 - val_loss: 0.1335 - val_accuracy: 0.9611\n",
      "Epoch 5/100\n",
      "96/96 [==============================] - 1s 8ms/step - loss: 0.2124 - accuracy: 0.9391 - val_loss: 0.1201 - val_accuracy: 0.9652\n",
      "Epoch 6/100\n",
      "96/96 [==============================] - 1s 9ms/step - loss: 0.1887 - accuracy: 0.9448 - val_loss: 0.1152 - val_accuracy: 0.9685\n",
      "Epoch 7/100\n",
      "96/96 [==============================] - 1s 8ms/step - loss: 0.1739 - accuracy: 0.9501 - val_loss: 0.1082 - val_accuracy: 0.9700\n",
      "Epoch 8/100\n",
      "96/96 [==============================] - 1s 8ms/step - loss: 0.1583 - accuracy: 0.9533 - val_loss: 0.1057 - val_accuracy: 0.9703\n",
      "Epoch 9/100\n",
      "96/96 [==============================] - 1s 8ms/step - loss: 0.1489 - accuracy: 0.9572 - val_loss: 0.0994 - val_accuracy: 0.9727\n",
      "Epoch 10/100\n",
      "96/96 [==============================] - 1s 8ms/step - loss: 0.1384 - accuracy: 0.9611 - val_loss: 0.0976 - val_accuracy: 0.9733\n",
      "Epoch 11/100\n",
      "96/96 [==============================] - 1s 9ms/step - loss: 0.1312 - accuracy: 0.9619 - val_loss: 0.0978 - val_accuracy: 0.9735\n",
      "Epoch 12/100\n",
      "96/96 [==============================] - 1s 9ms/step - loss: 0.1244 - accuracy: 0.9638 - val_loss: 0.0971 - val_accuracy: 0.9732\n",
      "Epoch 13/100\n",
      "96/96 [==============================] - 1s 11ms/step - loss: 0.1188 - accuracy: 0.9646 - val_loss: 0.0969 - val_accuracy: 0.9741\n",
      "Epoch 14/100\n",
      "96/96 [==============================] - 1s 11ms/step - loss: 0.1125 - accuracy: 0.9657 - val_loss: 0.0914 - val_accuracy: 0.9753\n",
      "Epoch 15/100\n",
      "96/96 [==============================] - 1s 10ms/step - loss: 0.1120 - accuracy: 0.9665 - val_loss: 0.0931 - val_accuracy: 0.9742\n",
      "Epoch 16/100\n",
      "96/96 [==============================] - 1s 11ms/step - loss: 0.1104 - accuracy: 0.9669 - val_loss: 0.0908 - val_accuracy: 0.9737\n",
      "Epoch 17/100\n",
      "96/96 [==============================] - 1s 10ms/step - loss: 0.1004 - accuracy: 0.9693 - val_loss: 0.0873 - val_accuracy: 0.9763\n",
      "Epoch 18/100\n",
      "96/96 [==============================] - 1s 11ms/step - loss: 0.0962 - accuracy: 0.9706 - val_loss: 0.0905 - val_accuracy: 0.9758\n",
      "Epoch 19/100\n",
      "96/96 [==============================] - 1s 11ms/step - loss: 0.0927 - accuracy: 0.9716 - val_loss: 0.0846 - val_accuracy: 0.9767\n",
      "Epoch 20/100\n",
      "96/96 [==============================] - 1s 12ms/step - loss: 0.0972 - accuracy: 0.9706 - val_loss: 0.0906 - val_accuracy: 0.9756\n",
      "Epoch 21/100\n",
      "96/96 [==============================] - 1s 11ms/step - loss: 0.0932 - accuracy: 0.9714 - val_loss: 0.0885 - val_accuracy: 0.9762\n",
      "Epoch 22/100\n",
      "96/96 [==============================] - 1s 11ms/step - loss: 0.0833 - accuracy: 0.9744 - val_loss: 0.0916 - val_accuracy: 0.9760\n",
      "Epoch 23/100\n",
      "96/96 [==============================] - 1s 11ms/step - loss: 0.0826 - accuracy: 0.9746 - val_loss: 0.0885 - val_accuracy: 0.9766\n",
      "Epoch 24/100\n",
      "96/96 [==============================] - 1s 11ms/step - loss: 0.0829 - accuracy: 0.9748 - val_loss: 0.0900 - val_accuracy: 0.9762\n",
      "Epoch 25/100\n",
      "96/96 [==============================] - 1s 11ms/step - loss: 0.0797 - accuracy: 0.9764 - val_loss: 0.0901 - val_accuracy: 0.9759\n",
      "Epoch 26/100\n",
      "96/96 [==============================] - 1s 11ms/step - loss: 0.0803 - accuracy: 0.9757 - val_loss: 0.0864 - val_accuracy: 0.9772\n",
      "Epoch 27/100\n",
      "96/96 [==============================] - 1s 11ms/step - loss: 0.0760 - accuracy: 0.9765 - val_loss: 0.0866 - val_accuracy: 0.9763\n",
      "Epoch 28/100\n",
      "96/96 [==============================] - 1s 11ms/step - loss: 0.0757 - accuracy: 0.9767 - val_loss: 0.0851 - val_accuracy: 0.9783\n",
      "Epoch 29/100\n",
      "96/96 [==============================] - 1s 11ms/step - loss: 0.0702 - accuracy: 0.9785 - val_loss: 0.0856 - val_accuracy: 0.9785\n",
      "Epoch 30/100\n",
      "96/96 [==============================] - 1s 11ms/step - loss: 0.0732 - accuracy: 0.9778 - val_loss: 0.0870 - val_accuracy: 0.9778\n",
      "Epoch 31/100\n",
      "96/96 [==============================] - 1s 11ms/step - loss: 0.0725 - accuracy: 0.9775 - val_loss: 0.0903 - val_accuracy: 0.9765\n",
      "Epoch 32/100\n",
      "96/96 [==============================] - 1s 11ms/step - loss: 0.0676 - accuracy: 0.9796 - val_loss: 0.0876 - val_accuracy: 0.9773\n",
      "Epoch 33/100\n",
      "96/96 [==============================] - 1s 11ms/step - loss: 0.0669 - accuracy: 0.9793 - val_loss: 0.0890 - val_accuracy: 0.9778\n",
      "Epoch 34/100\n",
      "96/96 [==============================] - 1s 11ms/step - loss: 0.0661 - accuracy: 0.9793 - val_loss: 0.0887 - val_accuracy: 0.9781\n",
      "Epoch 35/100\n",
      "96/96 [==============================] - 1s 11ms/step - loss: 0.0658 - accuracy: 0.9789 - val_loss: 0.0891 - val_accuracy: 0.9774\n",
      "Epoch 36/100\n",
      "96/96 [==============================] - 1s 10ms/step - loss: 0.0635 - accuracy: 0.9808 - val_loss: 0.0852 - val_accuracy: 0.9787\n",
      "Epoch 37/100\n",
      "96/96 [==============================] - 1s 11ms/step - loss: 0.0617 - accuracy: 0.9808 - val_loss: 0.0884 - val_accuracy: 0.9783\n",
      "Epoch 38/100\n",
      "96/96 [==============================] - 1s 10ms/step - loss: 0.0610 - accuracy: 0.9810 - val_loss: 0.0898 - val_accuracy: 0.9786\n",
      "Epoch 39/100\n",
      "96/96 [==============================] - 1s 11ms/step - loss: 0.0585 - accuracy: 0.9820 - val_loss: 0.0883 - val_accuracy: 0.9790\n",
      "Epoch 40/100\n",
      "96/96 [==============================] - 1s 11ms/step - loss: 0.0600 - accuracy: 0.9823 - val_loss: 0.0846 - val_accuracy: 0.9782\n",
      "Epoch 41/100\n",
      "96/96 [==============================] - 1s 10ms/step - loss: 0.0587 - accuracy: 0.9821 - val_loss: 0.0851 - val_accuracy: 0.9793\n",
      "Epoch 42/100\n",
      "96/96 [==============================] - 1s 10ms/step - loss: 0.0602 - accuracy: 0.9811 - val_loss: 0.0885 - val_accuracy: 0.9793\n",
      "Epoch 43/100\n",
      "96/96 [==============================] - 1s 11ms/step - loss: 0.0563 - accuracy: 0.9822 - val_loss: 0.0846 - val_accuracy: 0.9794\n",
      "Epoch 44/100\n",
      "96/96 [==============================] - 1s 10ms/step - loss: 0.0532 - accuracy: 0.9833 - val_loss: 0.0909 - val_accuracy: 0.9785\n",
      "Epoch 45/100\n",
      "96/96 [==============================] - 1s 10ms/step - loss: 0.0543 - accuracy: 0.9834 - val_loss: 0.0879 - val_accuracy: 0.9781\n",
      "Epoch 46/100\n",
      "96/96 [==============================] - 1s 10ms/step - loss: 0.0604 - accuracy: 0.9814 - val_loss: 0.0874 - val_accuracy: 0.9787\n",
      "Epoch 47/100\n",
      "96/96 [==============================] - 1s 10ms/step - loss: 0.0554 - accuracy: 0.9829 - val_loss: 0.0882 - val_accuracy: 0.9786\n",
      "Epoch 48/100\n",
      "96/96 [==============================] - 1s 10ms/step - loss: 0.0518 - accuracy: 0.9845 - val_loss: 0.0843 - val_accuracy: 0.9787\n",
      "Epoch 49/100\n",
      "96/96 [==============================] - 1s 10ms/step - loss: 0.0506 - accuracy: 0.9836 - val_loss: 0.0858 - val_accuracy: 0.9793\n",
      "Epoch 50/100\n",
      "96/96 [==============================] - 1s 10ms/step - loss: 0.0541 - accuracy: 0.9820 - val_loss: 0.0843 - val_accuracy: 0.9795\n",
      "Epoch 51/100\n",
      "96/96 [==============================] - 1s 10ms/step - loss: 0.0517 - accuracy: 0.9840 - val_loss: 0.0866 - val_accuracy: 0.9797\n",
      "Epoch 52/100\n",
      "96/96 [==============================] - 1s 10ms/step - loss: 0.0546 - accuracy: 0.9838 - val_loss: 0.0845 - val_accuracy: 0.9800\n",
      "Epoch 53/100\n",
      "96/96 [==============================] - 1s 11ms/step - loss: 0.0526 - accuracy: 0.9838 - val_loss: 0.0869 - val_accuracy: 0.9782\n",
      "Epoch 54/100\n",
      "96/96 [==============================] - 1s 11ms/step - loss: 0.0502 - accuracy: 0.9854 - val_loss: 0.0843 - val_accuracy: 0.9794\n",
      "Epoch 55/100\n",
      "96/96 [==============================] - 1s 12ms/step - loss: 0.0532 - accuracy: 0.9840 - val_loss: 0.0897 - val_accuracy: 0.9790\n",
      "Epoch 56/100\n",
      "96/96 [==============================] - 1s 11ms/step - loss: 0.0509 - accuracy: 0.9842 - val_loss: 0.0884 - val_accuracy: 0.9777\n",
      "Epoch 57/100\n",
      "96/96 [==============================] - 1s 10ms/step - loss: 0.0499 - accuracy: 0.9843 - val_loss: 0.0891 - val_accuracy: 0.9781\n",
      "Epoch 58/100\n",
      "96/96 [==============================] - 1s 10ms/step - loss: 0.0519 - accuracy: 0.9838 - val_loss: 0.0895 - val_accuracy: 0.9786\n",
      "Epoch 59/100\n",
      "96/96 [==============================] - 1s 11ms/step - loss: 0.0486 - accuracy: 0.9852 - val_loss: 0.0840 - val_accuracy: 0.9800\n",
      "Epoch 60/100\n",
      "96/96 [==============================] - 1s 10ms/step - loss: 0.0473 - accuracy: 0.9851 - val_loss: 0.0933 - val_accuracy: 0.9787\n",
      "Epoch 61/100\n",
      "96/96 [==============================] - 1s 11ms/step - loss: 0.0457 - accuracy: 0.9855 - val_loss: 0.0889 - val_accuracy: 0.9797\n",
      "Epoch 62/100\n",
      "96/96 [==============================] - 1s 11ms/step - loss: 0.0458 - accuracy: 0.9848 - val_loss: 0.0843 - val_accuracy: 0.9798\n",
      "Epoch 63/100\n",
      "96/96 [==============================] - 1s 11ms/step - loss: 0.0433 - accuracy: 0.9865 - val_loss: 0.0841 - val_accuracy: 0.9795\n",
      "Epoch 64/100\n",
      "96/96 [==============================] - 1s 11ms/step - loss: 0.0440 - accuracy: 0.9862 - val_loss: 0.0877 - val_accuracy: 0.9789\n",
      "Epoch 65/100\n",
      "96/96 [==============================] - 1s 10ms/step - loss: 0.0475 - accuracy: 0.9852 - val_loss: 0.0855 - val_accuracy: 0.9793\n",
      "Epoch 66/100\n",
      "96/96 [==============================] - 1s 10ms/step - loss: 0.0454 - accuracy: 0.9855 - val_loss: 0.0876 - val_accuracy: 0.9800\n"
     ]
    }
   ],
   "source": [
    "hist = model.fit(x_train, y_train, validation_split = 0.2, shuffle=True,\n",
    "                     epochs=100, batch_size=500, callbacks=[es])"
   ],
   "metadata": {
    "collapsed": false,
    "pycharm": {
     "name": "#%%\n"
    }
   }
  },
  {
   "cell_type": "code",
   "execution_count": 49,
   "outputs": [
    {
     "data": {
      "text/plain": "array([[4.57046849e-14, 2.57189992e-15, 5.31500677e-11, 5.39401022e-08,\n        2.80999030e-21, 2.88750516e-14, 1.26192239e-21, 1.00000000e+00,\n        6.90105084e-10, 9.71118652e-09],\n       [2.48557329e-15, 1.87358007e-12, 1.00000000e+00, 2.31800375e-14,\n        2.86560041e-27, 4.66062812e-15, 2.35936093e-15, 5.39830893e-28,\n        1.23137492e-12, 4.33237122e-28],\n       [4.27798241e-09, 9.99998689e-01, 3.25676865e-07, 2.76855778e-11,\n        2.38670879e-08, 3.76449893e-09, 1.72776238e-09, 5.07079619e-07,\n        4.44012926e-07, 1.33009892e-09],\n       [1.00000000e+00, 9.62746209e-19, 1.01050814e-13, 1.69463458e-20,\n        3.18737923e-22, 4.87378901e-19, 1.60722618e-12, 7.60415765e-13,\n        3.84210160e-23, 1.12999985e-18],\n       [8.38236511e-12, 2.57197468e-17, 5.34595751e-13, 1.85380340e-17,\n        9.99999523e-01, 6.95227275e-20, 2.56471623e-12, 1.01898512e-09,\n        5.58019689e-12, 5.22749588e-07],\n       [1.53623416e-11, 9.99987960e-01, 3.78633860e-11, 1.08793660e-12,\n        5.23738719e-10, 4.80142835e-12, 2.04664471e-14, 1.20429777e-05,\n        1.33056943e-09, 2.40138638e-12],\n       [4.06108251e-18, 3.21583172e-17, 3.72461232e-18, 4.31650720e-18,\n        1.00000000e+00, 1.32477965e-15, 2.90043371e-17, 1.60097543e-12,\n        6.72107037e-10, 2.90810087e-09],\n       [1.00337101e-16, 1.69698799e-09, 5.33988896e-07, 6.47474749e-08,\n        1.04934130e-04, 2.45164578e-09, 6.00711486e-20, 1.09509526e-10,\n        5.70937273e-14, 9.99894500e-01],\n       [8.29241352e-13, 2.18341188e-18, 8.42704310e-07, 1.40372297e-10,\n        9.79779634e-06, 9.91081953e-01, 8.90261307e-03, 3.18074133e-16,\n        1.84748535e-06, 2.82327801e-06],\n       [1.02176641e-17, 6.49674141e-28, 7.27749492e-23, 1.43891635e-10,\n        4.18108687e-10, 7.72296869e-19, 1.81916794e-26, 1.21199077e-08,\n        1.80827964e-09, 1.00000000e+00]], dtype=float32)"
     },
     "execution_count": 49,
     "metadata": {},
     "output_type": "execute_result"
    }
   ],
   "source": [
    "model.predict(x_test[0:10])"
   ],
   "metadata": {
    "collapsed": false,
    "pycharm": {
     "name": "#%%\n"
    }
   }
  },
  {
   "cell_type": "code",
   "execution_count": 115,
   "outputs": [
    {
     "name": "stdout",
     "output_type": "stream",
     "text": [
      "313/313 [==============================] - 1s 2ms/step - loss: 0.0846 - accuracy: 0.9782\n"
     ]
    },
    {
     "data": {
      "text/plain": "[0.08464914560317993, 0.9782000184059143]"
     },
     "execution_count": 115,
     "metadata": {},
     "output_type": "execute_result"
    }
   ],
   "source": [
    "model.evaluate(x_test, y_test)"
   ],
   "metadata": {
    "collapsed": false,
    "pycharm": {
     "name": "#%%\n"
    }
   }
  },
  {
   "cell_type": "code",
   "execution_count": 51,
   "outputs": [],
   "source": [
    "import PIL.Image as pilimg"
   ],
   "metadata": {
    "collapsed": false,
    "pycharm": {
     "name": "#%%\n"
    }
   }
  },
  {
   "cell_type": "code",
   "execution_count": 134,
   "outputs": [
    {
     "name": "stdout",
     "output_type": "stream",
     "text": [
      "(11, 28, 28)\n"
     ]
    }
   ],
   "source": [
    "img = []\n",
    "im = pilimg.open(\"0.bmp\")\n",
    "img.append(np.array(im))\n",
    "im = pilimg.open(\"1.bmp\")\n",
    "img.append(np.array(im))\n",
    "\n",
    "im = pilimg.open(\"2.bmp\")\n",
    "img.append(np.array(im))\n",
    "im = pilimg.open(\"3.bmp\")\n",
    "img.append(np.array(im))\n",
    "\n",
    "im = pilimg.open(\"4.bmp\")\n",
    "img.append(np.array(im))\n",
    "im = pilimg.open(\"5.bmp\")\n",
    "img.append(np.array(im))\n",
    "\n",
    "im = pilimg.open(\"6.bmp\")\n",
    "img.append(np.array(im))\n",
    "im = pilimg.open(\"7.bmp\")\n",
    "img.append(np.array(im))\n",
    "\n",
    "im = pilimg.open(\"8.bmp\")\n",
    "img.append(np.array(im))\n",
    "im = pilimg.open(\"9.bmp\")\n",
    "img.append(np.array(im))\n",
    "\n",
    "im = pilimg.open(\"10.bmp\")\n",
    "img.append(np.array(im))\n",
    "print(np.array(img).shape)\n",
    "\n",
    "im.close()\n"
   ],
   "metadata": {
    "collapsed": false,
    "pycharm": {
     "name": "#%%\n"
    }
   }
  },
  {
   "cell_type": "code",
   "execution_count": null,
   "outputs": [],
   "source": [],
   "metadata": {
    "collapsed": false,
    "pycharm": {
     "name": "#%%\n"
    }
   }
  },
  {
   "cell_type": "code",
   "execution_count": 135,
   "outputs": [
    {
     "name": "stdout",
     "output_type": "stream",
     "text": [
      "(array([ 0,  1,  2,  3,  4,  5,  6,  7,  8,  9, 10], dtype=int64), array([0, 6, 0, 6, 7, 4, 7, 5, 2, 6, 3], dtype=int64))\n"
     ]
    }
   ],
   "source": [
    "print(np.where(model.predict(np.array(img)) == 1.0))"
   ],
   "metadata": {
    "collapsed": false,
    "pycharm": {
     "name": "#%%\n"
    }
   }
  },
  {
   "cell_type": "code",
   "execution_count": null,
   "outputs": [],
   "source": [],
   "metadata": {
    "collapsed": false,
    "pycharm": {
     "name": "#%%\n"
    }
   }
  }
 ],
 "metadata": {
  "kernelspec": {
   "display_name": "Python 3",
   "language": "python",
   "name": "python3"
  },
  "language_info": {
   "codemirror_mode": {
    "name": "ipython",
    "version": 2
   },
   "file_extension": ".py",
   "mimetype": "text/x-python",
   "name": "python",
   "nbconvert_exporter": "python",
   "pygments_lexer": "ipython2",
   "version": "2.7.6"
  }
 },
 "nbformat": 4,
 "nbformat_minor": 0
}