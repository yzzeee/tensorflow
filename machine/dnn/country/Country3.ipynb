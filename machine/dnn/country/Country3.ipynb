{
 "cells": [
  {
   "cell_type": "markdown",
   "metadata": {},
   "source": [
    "## 이항 분류\n",
    "### 수집된 데이터를 표준화 기법으로 정규화하여 country2.csv를 사용한 경우\n",
    "- 단위가 다른 데이터의 비중을 동일하게 표준화: x(데이터)-μ(평균)/σ(표준편차)"
   ]
  },
  {
   "cell_type": "code",
   "execution_count": 1,
   "metadata": {},
   "outputs": [
    {
     "data": {
      "application/javascript": "IPython.notebook.set_autosave_interval(0)"
     },
     "metadata": {},
     "output_type": "display_data"
    },
    {
     "name": "stdout",
     "output_type": "stream",
     "text": [
      "Autosave disabled\n"
     ]
    }
   ],
   "source": [
    "%autosave 0\n",
    "import numpy as np\n",
    "import matplotlib.pyplot as plt\n",
    "\n",
    "import os\n",
    "import time\n",
    "\n",
    "import numpy as np\n",
    "import tensorflow as tf\n",
    "import seaborn as sb\n",
    "\n",
    "from tensorflow.keras.models import Sequential\n",
    "from tensorflow.keras.layers import Dense\n",
    "from tensorflow.keras.models import load_model\n",
    "\n",
    "from tensorflow.keras.callbacks import EarlyStopping\n",
    "from tensorflow.keras.callbacks import ModelCheckpoint # 우수한 학습 모델 파일 저장"
   ]
  },
  {
   "cell_type": "code",
   "execution_count": 8,
   "metadata": {},
   "outputs": [],
   "source": [
    "# 데이터 준비\n",
    "# 정확도 향상은 있으나 Overfit 발생\n",
    "# data = np.loadtxt('./country1.csv', delimiter=',', dtype=np.float64)\n",
    "# 정확도 향상, Overfit 발생 안됨\n",
    "data = np.loadtxt('./country2.csv', delimiter=',', dtype=np.float64)\n",
    "# print(type(data))\n",
    "# print(data.shape)\n",
    "# print(data)"
   ]
  },
  {
   "cell_type": "code",
   "execution_count": 9,
   "metadata": {
    "scrolled": true
   },
   "outputs": [
    {
     "name": "stdout",
     "output_type": "stream",
     "text": [
      "(100, 7)\n",
      "(7, 100)\n"
     ]
    }
   ],
   "source": [
    "# 평균, 표준 편차의 산출시 행방향 기준이 아니라 열방향을 기준으로 산출해야함.\n",
    "# 성  명  Python Tensorflow\n",
    "# 왕눈이  90     80\n",
    "# 아로미  95     90\n",
    "# 투투    80     65\n",
    "# Python 과목의 평균과 표준편차는 열방향으로 구해야하나, \n",
    "# 일반적인 관측치 데이터는 행방향을 가지고 있음\n",
    "print(data.shape) # (100, 7)\n",
    "datat = data.T    # 열방향을 행방향으로 변경해야함, 전치 행렬.\n",
    "# print(datat)\n",
    "print(datat.shape)# (7, 100)\n",
    "# print(datat[0])   # 음주 횟수\n",
    "# print(datat[5])  \n",
    "# print(datat[6])   # class, 분류, 표준화 필요 없음."
   ]
  },
  {
   "cell_type": "code",
   "execution_count": 10,
   "metadata": {
    "scrolled": true
   },
   "outputs": [
    {
     "name": "stdout",
     "output_type": "stream",
     "text": [
      "range(0, 7)\n",
      "range(0, 6)\n",
      "0 행 m: 0.8  std: 1.0295630140987002\n",
      "1 행 m: 0.39  std: 0.4877499359302879\n",
      "2 행 m: 0.66  std: 0.4737087712930805\n",
      "3 행 m: 7.32  std: 2.842111890830479\n",
      "4 행 m: 0.92  std: 0.2712931993250107\n",
      "5 행 m: 1.19  std: 1.2385071659057931\n"
     ]
    }
   ],
   "source": [
    "# 연속실행 안됨.\n",
    "print(range(len(datat)))\n",
    "print(range(len(datat)-1))\n",
    "\n",
    "# print(datat)\n",
    "ms = [] # 평균 목록, 테스트시 사용\n",
    "stds = [] # 표준편차 목록, 테스트시 사용\n",
    "for i in range(len(datat)-1): # 6개의 행 대상\n",
    "    # datat[i] = datat[i].astype('float32')\n",
    "    m = datat[i].mean()  # 평균\n",
    "    std = datat[i].std() # 표준편차\n",
    "    print(i, '행 ''m:', m, ' std:', std)\n",
    "    \n",
    "    # 표준화 실행, 평균(m) 0, 분산 1, 표준편차: std\n",
    "    datat[i] = (datat[i] - m) / std \n",
    "\n",
    "    ms.append(m)     # 모델 사용시에 사용\n",
    "    stds.append(std) # 모델 사용시에 사용\n",
    "\n",
    "# print(datat[5]) "
   ]
  },
  {
   "cell_type": "code",
   "execution_count": 11,
   "metadata": {},
   "outputs": [
    {
     "name": "stdout",
     "output_type": "stream",
     "text": [
      "(100, 7)\n",
      "[-0.77702869 -0.79959006 -1.39326109 -0.81629439  0.29488391 -0.96083417\n",
      "  0.        ]\n"
     ]
    }
   ],
   "source": [
    "data = datat.T     # 행과열을 처음 상태로 복원\n",
    "print(data.shape)\n",
    "print(data[0]) "
   ]
  },
  {
   "cell_type": "code",
   "execution_count": 12,
   "metadata": {},
   "outputs": [
    {
     "name": "stdout",
     "output_type": "stream",
     "text": [
      "(90, 6)\n",
      "(90,)\n",
      "(10, 6)\n",
      "(10,)\n"
     ]
    }
   ],
   "source": [
    "# 훈련용 + 검증용: 90 건\n",
    "x_train = data[0:90, 0:6] # 변수 6개, 0 ~ 5\n",
    "print(x_train.shape)\n",
    "y_train = data[0:90, 6] # class 1개\n",
    "print(y_train.shape)\n",
    "# 테스트용: 10 건\n",
    "x_test =data[90:, 0:6]  # 변수 6개, 0 ~ 5\n",
    "print(x_test.shape)\n",
    "y_test =data[90:, 6]    # class 1개\n",
    "print(y_test.shape)"
   ]
  },
  {
   "cell_type": "code",
   "execution_count": 13,
   "metadata": {},
   "outputs": [
    {
     "name": "stdout",
     "output_type": "stream",
     "text": [
      "Model: \"sequential_1\"\n",
      "_________________________________________________________________\n",
      "Layer (type)                 Output Shape              Param #   \n",
      "=================================================================\n",
      "dense_3 (Dense)              (None, 20)                140       \n",
      "_________________________________________________________________\n",
      "dense_4 (Dense)              (None, 15)                315       \n",
      "_________________________________________________________________\n",
      "dense_5 (Dense)              (None, 1)                 16        \n",
      "=================================================================\n",
      "Total params: 471\n",
      "Trainable params: 471\n",
      "Non-trainable params: 0\n",
      "_________________________________________________________________\n",
      "Epoch 1/1000\n",
      "24/24 [==============================] - 1s 9ms/step - loss: 0.6880 - accuracy: 0.4905 - val_loss: 0.6579 - val_accuracy: 0.6111\n",
      "\n",
      "Epoch 00001: val_accuracy improved from -inf to 0.61111, saving model to .\\Country3.h5\n",
      "Epoch 2/1000\n",
      "24/24 [==============================] - 0s 3ms/step - loss: 0.6048 - accuracy: 0.6165 - val_loss: 0.6021 - val_accuracy: 0.7778\n",
      "\n",
      "Epoch 00002: val_accuracy improved from 0.61111 to 0.77778, saving model to .\\Country3.h5\n",
      "Epoch 3/1000\n",
      "24/24 [==============================] - 0s 2ms/step - loss: 0.5977 - accuracy: 0.7495 - val_loss: 0.5570 - val_accuracy: 0.7778\n",
      "\n",
      "Epoch 00003: val_accuracy did not improve from 0.77778\n",
      "Epoch 4/1000\n",
      "24/24 [==============================] - 0s 3ms/step - loss: 0.5587 - accuracy: 0.7586 - val_loss: 0.5143 - val_accuracy: 0.8333\n",
      "\n",
      "Epoch 00004: val_accuracy improved from 0.77778 to 0.83333, saving model to .\\Country3.h5\n",
      "Epoch 5/1000\n",
      "24/24 [==============================] - 0s 3ms/step - loss: 0.4796 - accuracy: 0.9060 - val_loss: 0.4708 - val_accuracy: 0.9444\n",
      "\n",
      "Epoch 00005: val_accuracy improved from 0.83333 to 0.94444, saving model to .\\Country3.h5\n",
      "Epoch 6/1000\n",
      "24/24 [==============================] - 0s 3ms/step - loss: 0.4860 - accuracy: 0.9809 - val_loss: 0.4301 - val_accuracy: 0.9444\n",
      "\n",
      "Epoch 00006: val_accuracy did not improve from 0.94444\n",
      "Epoch 7/1000\n",
      "24/24 [==============================] - 0s 3ms/step - loss: 0.4281 - accuracy: 0.9868 - val_loss: 0.3923 - val_accuracy: 0.8889\n",
      "\n",
      "Epoch 00007: val_accuracy did not improve from 0.94444\n",
      "Epoch 8/1000\n",
      "24/24 [==============================] - 0s 3ms/step - loss: 0.3638 - accuracy: 0.9925 - val_loss: 0.3549 - val_accuracy: 0.8889\n",
      "\n",
      "Epoch 00008: val_accuracy did not improve from 0.94444\n",
      "Epoch 9/1000\n",
      "24/24 [==============================] - 0s 3ms/step - loss: 0.3628 - accuracy: 0.9818 - val_loss: 0.3204 - val_accuracy: 0.9444\n",
      "\n",
      "Epoch 00009: val_accuracy did not improve from 0.94444\n",
      "Epoch 10/1000\n",
      "24/24 [==============================] - 0s 3ms/step - loss: 0.3203 - accuracy: 0.9964 - val_loss: 0.2876 - val_accuracy: 0.9444\n",
      "\n",
      "Epoch 00010: val_accuracy did not improve from 0.94444\n",
      "Epoch 11/1000\n",
      "24/24 [==============================] - 0s 3ms/step - loss: 0.2929 - accuracy: 0.9795 - val_loss: 0.2598 - val_accuracy: 0.9444\n",
      "\n",
      "Epoch 00011: val_accuracy did not improve from 0.94444\n",
      "Epoch 12/1000\n",
      "24/24 [==============================] - 0s 4ms/step - loss: 0.3128 - accuracy: 0.9795 - val_loss: 0.2345 - val_accuracy: 0.9444\n",
      "\n",
      "Epoch 00012: val_accuracy did not improve from 0.94444\n",
      "Epoch 13/1000\n",
      "24/24 [==============================] - 0s 3ms/step - loss: 0.2280 - accuracy: 0.9977 - val_loss: 0.2121 - val_accuracy: 0.9444\n",
      "\n",
      "Epoch 00013: val_accuracy did not improve from 0.94444\n",
      "Epoch 14/1000\n",
      "24/24 [==============================] - 0s 4ms/step - loss: 0.1669 - accuracy: 0.9971 - val_loss: 0.1936 - val_accuracy: 0.9444\n",
      "\n",
      "Epoch 00014: val_accuracy did not improve from 0.94444\n",
      "Epoch 15/1000\n",
      "24/24 [==============================] - 0s 3ms/step - loss: 0.2034 - accuracy: 0.9925 - val_loss: 0.1784 - val_accuracy: 0.9444\n",
      "\n",
      "Epoch 00015: val_accuracy did not improve from 0.94444\n",
      "Epoch 16/1000\n",
      "24/24 [==============================] - 0s 2ms/step - loss: 0.1949 - accuracy: 0.9691 - val_loss: 0.1654 - val_accuracy: 0.9444\n",
      "\n",
      "Epoch 00016: val_accuracy did not improve from 0.94444\n",
      "Epoch 17/1000\n",
      "24/24 [==============================] - 0s 2ms/step - loss: 0.1293 - accuracy: 0.9950 - val_loss: 0.1520 - val_accuracy: 1.0000\n",
      "\n",
      "Epoch 00017: val_accuracy improved from 0.94444 to 1.00000, saving model to .\\Country3.h5\n",
      "Epoch 18/1000\n",
      "24/24 [==============================] - 0s 3ms/step - loss: 0.1265 - accuracy: 0.9894 - val_loss: 0.1411 - val_accuracy: 1.0000\n",
      "\n",
      "Epoch 00018: val_accuracy did not improve from 1.00000\n",
      "Epoch 19/1000\n",
      "24/24 [==============================] - 0s 3ms/step - loss: 0.1676 - accuracy: 0.9769 - val_loss: 0.1334 - val_accuracy: 1.0000\n",
      "\n",
      "Epoch 00019: val_accuracy did not improve from 1.00000\n",
      "Epoch 20/1000\n",
      "24/24 [==============================] - 0s 3ms/step - loss: 0.1369 - accuracy: 0.9933 - val_loss: 0.1253 - val_accuracy: 1.0000\n",
      "\n",
      "Epoch 00020: val_accuracy did not improve from 1.00000\n",
      "Epoch 21/1000\n",
      "24/24 [==============================] - 0s 3ms/step - loss: 0.1447 - accuracy: 0.9818 - val_loss: 0.1189 - val_accuracy: 1.0000\n",
      "\n",
      "Epoch 00021: val_accuracy did not improve from 1.00000\n",
      "Epoch 22/1000\n",
      "24/24 [==============================] - 0s 3ms/step - loss: 0.1247 - accuracy: 0.9795 - val_loss: 0.1125 - val_accuracy: 1.0000\n",
      "\n",
      "Epoch 00022: val_accuracy did not improve from 1.00000\n",
      "Epoch 23/1000\n",
      "24/24 [==============================] - 0s 2ms/step - loss: 0.1024 - accuracy: 0.9853 - val_loss: 0.1075 - val_accuracy: 1.0000\n",
      "\n",
      "Epoch 00023: val_accuracy did not improve from 1.00000\n",
      "Epoch 24/1000\n",
      "24/24 [==============================] - 0s 2ms/step - loss: 0.0745 - accuracy: 0.9964 - val_loss: 0.1009 - val_accuracy: 1.0000\n",
      "\n",
      "Epoch 00024: val_accuracy did not improve from 1.00000\n",
      "Epoch 25/1000\n",
      "24/24 [==============================] - 0s 3ms/step - loss: 0.0931 - accuracy: 0.9894 - val_loss: 0.0983 - val_accuracy: 0.9444\n",
      "\n",
      "Epoch 00025: val_accuracy did not improve from 1.00000\n",
      "Epoch 26/1000\n",
      "24/24 [==============================] - 0s 2ms/step - loss: 0.0624 - accuracy: 0.9942 - val_loss: 0.0937 - val_accuracy: 1.0000\n",
      "\n",
      "Epoch 00026: val_accuracy did not improve from 1.00000\n",
      "Epoch 27/1000\n",
      "24/24 [==============================] - 0s 3ms/step - loss: 0.0717 - accuracy: 0.9950 - val_loss: 0.0899 - val_accuracy: 0.9444\n",
      "\n",
      "Epoch 00027: val_accuracy did not improve from 1.00000\n",
      "Epoch 28/1000\n",
      "24/24 [==============================] - 0s 2ms/step - loss: 0.0551 - accuracy: 0.9971 - val_loss: 0.0868 - val_accuracy: 0.9444\n",
      "\n",
      "Epoch 00028: val_accuracy did not improve from 1.00000\n",
      "Epoch 29/1000\n",
      "24/24 [==============================] - 0s 3ms/step - loss: 0.0773 - accuracy: 0.9894 - val_loss: 0.0852 - val_accuracy: 0.9444\n",
      "\n",
      "Epoch 00029: val_accuracy did not improve from 1.00000\n",
      "Epoch 30/1000\n",
      "24/24 [==============================] - 0s 3ms/step - loss: 0.0532 - accuracy: 0.9971 - val_loss: 0.0813 - val_accuracy: 0.9444\n",
      "\n",
      "Epoch 00030: val_accuracy did not improve from 1.00000\n",
      "Epoch 31/1000\n",
      "24/24 [==============================] - 0s 3ms/step - loss: 0.0463 - accuracy: 0.9971 - val_loss: 0.0798 - val_accuracy: 0.9444\n",
      "\n",
      "Epoch 00031: val_accuracy did not improve from 1.00000\n",
      "Epoch 32/1000\n",
      "24/24 [==============================] - 0s 3ms/step - loss: 0.1439 - accuracy: 0.9491 - val_loss: 0.0794 - val_accuracy: 0.9444\n",
      "\n",
      "Epoch 00032: val_accuracy did not improve from 1.00000\n",
      "Epoch 33/1000\n",
      "24/24 [==============================] - 0s 3ms/step - loss: 0.0578 - accuracy: 0.9977 - val_loss: 0.0761 - val_accuracy: 0.9444\n",
      "\n",
      "Epoch 00033: val_accuracy did not improve from 1.00000\n",
      "Epoch 34/1000\n",
      "24/24 [==============================] - 0s 3ms/step - loss: 0.0769 - accuracy: 0.9818 - val_loss: 0.0767 - val_accuracy: 0.9444\n",
      "\n",
      "Epoch 00034: val_accuracy did not improve from 1.00000\n",
      "Epoch 35/1000\n",
      "24/24 [==============================] - 0s 2ms/step - loss: 0.0589 - accuracy: 0.9894 - val_loss: 0.0754 - val_accuracy: 0.9444\n",
      "\n",
      "Epoch 00035: val_accuracy did not improve from 1.00000\n",
      "Epoch 36/1000\n",
      "24/24 [==============================] - 0s 3ms/step - loss: 0.0502 - accuracy: 0.9894 - val_loss: 0.0741 - val_accuracy: 0.9444\n",
      "\n",
      "Epoch 00036: val_accuracy did not improve from 1.00000\n",
      "Epoch 37/1000\n",
      "24/24 [==============================] - 0s 3ms/step - loss: 0.0598 - accuracy: 0.9905 - val_loss: 0.0732 - val_accuracy: 0.9444\n",
      "\n",
      "Epoch 00037: val_accuracy did not improve from 1.00000\n",
      "Epoch 38/1000\n",
      "24/24 [==============================] - 0s 3ms/step - loss: 0.0440 - accuracy: 0.9915 - val_loss: 0.0726 - val_accuracy: 0.9444\n",
      "\n",
      "Epoch 00038: val_accuracy did not improve from 1.00000\n",
      "Epoch 39/1000\n",
      "24/24 [==============================] - 0s 3ms/step - loss: 0.0662 - accuracy: 0.9818 - val_loss: 0.0718 - val_accuracy: 0.9444\n",
      "\n",
      "Epoch 00039: val_accuracy did not improve from 1.00000\n",
      "Epoch 40/1000\n",
      "24/24 [==============================] - 0s 3ms/step - loss: 0.1225 - accuracy: 0.9491 - val_loss: 0.0721 - val_accuracy: 0.9444\n",
      "\n",
      "Epoch 00040: val_accuracy did not improve from 1.00000\n"
     ]
    }
   ],
   "source": [
    "tf.random.set_seed(0)\n",
    "model = Sequential()\n",
    "# 최적의 모델\n",
    "model.add(Dense(20, input_dim=6, activation='relu')) # 입력 값: 17, 출력값: 64\n",
    "model.add(Dense(15, activation='relu'))\n",
    "model.add(Dense(1, activation='sigmoid')) \n",
    "\n",
    "model.compile(optimizer='adam', loss='binary_crossentropy', metrics=['accuracy'])\n",
    "\n",
    "model.summary()\n",
    "\n",
    "mcp = ModelCheckpoint(filepath='./Country3.h5', monitor='val_accuracy',\n",
    "                               verbose=1, save_best_only=True)\n",
    "es = EarlyStopping(monitor='loss', patience=1, restore_best_weights=True)\n",
    "\n",
    "# validation_split = 0.2: 20% 검증 데이터로 사용\n",
    "hist = model.fit(x_train, y_train, validation_split = 0.2, \n",
    "                 shuffle=True, epochs=1000, \n",
    "                 batch_size=3, callbacks=[mcp, es])\n"
   ]
  },
  {
   "cell_type": "code",
   "execution_count": 18,
   "metadata": {},
   "outputs": [
    {
     "data": {
      "text/plain": "<Figure size 720x360 with 2 Axes>",
      "image/png": "[encoded data removed]"
     },
     "metadata": {
      "needs_background": "light"
     },
     "output_type": "display_data"
    }
   ],
   "source": [
    "fig, loss_ax = plt.subplots()\n",
    "# plt.figure(figsize=(6,4)) # ERROR\n",
    "fig.set_size_inches(10, 5)  # 챠트 크기 설정\n",
    "\n",
    "acc_ax = loss_ax.twinx()  # 오른쪽 y 출 설정\n",
    "\n",
    "loss_ax.plot(hist.history['loss'], 'y', label='train loss')   # 훈련 손실\n",
    "loss_ax.plot(hist.history['val_loss'], 'r', label='val loss') # 검증 손실, 학습의 우수성 평가 척도\n",
    "loss_ax.set_ylim([0.0, 1.0]) # 왼쪽 y 축, 값을 반영하여 변경\n",
    "\n",
    "acc_ax.plot(hist.history['accuracy'], 'b', label='train accuracy')   # 훈련 정확도\n",
    "acc_ax.plot(hist.history['val_accuracy'], 'g', label='val accuracy') # 검증 정확도\n",
    "acc_ax.set_ylim([0.0, 1.0])  # 오른쪽 y 축, 0 ~100 %를 의미\n",
    "\n",
    "loss_ax.set_xlabel('epoch')  # x축 레이블\n",
    "loss_ax.set_ylabel('loss')     # 왼쪽 y 레이블\n",
    "acc_ax.set_ylabel('accuray') # 오른쪽 y 레이블\n",
    "\n",
    "loss_ax.legend(loc='upper left')  # 좌측 y 축 기준 범례 위치 설정\n",
    "acc_ax.legend(loc='lower left')   # 우측 y 축 기준 범례 위치 설정\n",
    "\n",
    "plt.show()\n"
   ]
  },
  {
   "cell_type": "code",
   "execution_count": 19,
   "metadata": {},
   "outputs": [
    {
     "name": "stdout",
     "output_type": "stream",
     "text": [
      "손실값: 0.03400721400976181 /정확도: 100.0 %\n"
     ]
    }
   ],
   "source": [
    "test_loss, test_acc = model.evaluate(x_test, y_test, batch_size=1, verbose=0)\n",
    "print('손실값:', test_loss, '/정확도:', (test_acc*100), '%')"
   ]
  },
  {
   "cell_type": "code",
   "execution_count": 35,
   "metadata": {},
   "outputs": [],
   "source": [
    "# model.save('Country3.h5')"
   ]
  },
  {
   "cell_type": "code",
   "execution_count": 36,
   "metadata": {},
   "outputs": [],
   "source": [
    "model = load_model('Country3.h5')"
   ]
  },
  {
   "cell_type": "code",
   "execution_count": 23,
   "metadata": {},
   "outputs": [],
   "source": [
    "# 1) 주당 음주 횟수: 0 ~ 3(3회 이상)\n",
    "# 2) 농촌에서 생활적이 있다: 0(없음), 1(있음)\n",
    "# 3) 가족중에 농촌에서 생활하고 있는 친척있는 여부: 0(없음), 1(있음)\n",
    "# 4) 1년동안의 여행 횟수: 0 ~ 12\n",
    "#     (12이상, 교통을 이용한 등산/캠핑, 당일, 국내, 국외 모두 해당)\n",
    "# 5) 집을 소유 할 수 있는 경제력: 0(없음), 1(있음)\n",
    "# 6) 경작 할 수 있는 토지 평수: 0 ~ (평)\n",
    "#     0: 없음, 1: 1 ~ 2000 미만, 2: 2000이상 ~ 3000미만, 3: 3000 이상\n",
    "# 7) 정착: 1, 실패: 0\n",
    "        \n",
    "drink = int(input('주당 음주 횟수는 (0 ~ 3(3회 이상)):'))\n",
    "life = int(input('농촌에서 생활한 경험(0(없음), 1(있음)):'))\n",
    "life2 = int(input('가족중에 농촌에서 생활하고 있는 친척있는 여부(0(없음), 1(있음)):'))\n",
    "trip = int(input('1년동안의 여행 횟수(0 ~ 12):'))\n",
    "house = int(input('집을 소유 할 수 있는 경제력(0(없음), 1(있음)):'))\n",
    "land = int(input('경작 할 수 있는 토지 평수(0: 없음, 1: 1 ~ 2000 미만, 2: 2000이상 ~ 3000미만, 3: 3000 이상):'))"
   ]
  },
  {
   "cell_type": "markdown",
   "metadata": {},
   "source": [
    "#### 표준화를 하여 학습한 경우 모델 이용시에도 표준화를 해서 이용해야함. ★"
   ]
  },
  {
   "cell_type": "code",
   "execution_count": 24,
   "metadata": {},
   "outputs": [
    {
     "name": "stdout",
     "output_type": "stream",
     "text": [
      "(1, 6)\n",
      "[[-0.77702869  1.25064086  0.71774056 -2.57554955 -3.39116499 -0.96083417]]\n"
     ]
    }
   ],
   "source": [
    "# 모집단의 평균과 표준편차를 이용하여 테스트 데이터의 표준화 진행 ★\n",
    "data = []\n",
    "data.append((drink - ms[0]) / stds[0])\n",
    "data.append((life - ms[1]) / stds[1])\n",
    "data.append((life2 - ms[2]) / stds[2])\n",
    "data.append((trip - ms[3]) / stds[3])\n",
    "data.append((house - ms[4]) / stds[4])\n",
    "data.append((land - ms[5]) / stds[5])\n",
    "\n",
    "x = np.array([\n",
    "             data,\n",
    "      ])\n",
    "print(x.shape)\n",
    "print(x)"
   ]
  },
  {
   "cell_type": "code",
   "execution_count": 25,
   "metadata": {},
   "outputs": [
    {
     "name": "stdout",
     "output_type": "stream",
     "text": [
      "[[0.00102597]]\n",
      "(1, 1)\n",
      "적응 확률: 0.103%\n",
      "도시형: 시골에 적응이 불가능합니다.\n"
     ]
    }
   ],
   "source": [
    "yp = model.predict(x)\n",
    "print(yp)\n",
    "print(yp.shape)\n",
    "\n",
    "for i in range(len(x)):\n",
    "    # print('적응 확률:', yp[i][0] * 100, ' %')\n",
    "    print('적응 확률: {0:.3f}%'.format(yp[i][0] * 100))\n",
    "    \n",
    "    if yp[i][0] >= 0.5:    # 기존 사례를 참고하여 결정\n",
    "        print('시골형: 시골에 적응 할 수 있습니다.')\n",
    "    else:\n",
    "        print('도시형: 시골에 적응이 불가능합니다.')\n"
   ]
  },
  {
   "cell_type": "code",
   "execution_count": 27,
   "metadata": {},
   "outputs": [
    {
     "name": "stdout",
     "output_type": "stream",
     "text": [
      "적응 확률: 3.882%\n",
      "도시형: 시골에 적응이 불가능합니다.\n"
     ]
    }
   ],
   "source": [
    "# 모든 데이터를 통으로 입력받은 경우\n",
    "# 2,1,1,0,3,1,0\n",
    "# 2,1,1,1,3,1,0\n",
    "# 2,1,1,1,3,1,1\n",
    "# 2,1,1,1,6,1,1\n",
    "total = input('모든 데이터를 통으로 입력:')\n",
    "total_split = np.array(total.split(','), dtype=float)\n",
    "data = []\n",
    "data.append((total_split[0] - ms[0]) / stds[0])\n",
    "data.append((total_split[1] - ms[1]) / stds[1])\n",
    "data.append((total_split[2] - ms[2]) / stds[2])\n",
    "data.append((total_split[3] - ms[3]) / stds[3])\n",
    "data.append((total_split[4] - ms[4]) / stds[4])\n",
    "data.append((total_split[5] - ms[5]) / stds[5])\n",
    "\n",
    "x = np.array([\n",
    "             data,\n",
    "      ])\n",
    "\n",
    "yp = model.predict(x)\n",
    "\n",
    "for i in range(len(x)):\n",
    "    # print('적응 확률:', yp[i][0] * 100, ' %')\n",
    "    print('적응 확률: {0:.3f}%'.format(yp[i][0] * 100))\n",
    "    \n",
    "    if yp[i][0] >= 0.8:    # 기존 사례를 참고하여 결정\n",
    "        print('귀농형: 시골에 적응 할 수 있습니다.')\n",
    "    elif yp[i][0] >= 0.5:    # 기존 사례를 참고하여 결정\n",
    "        print('귀촌형: 시골에 적응 할 수 있습니다.')\n",
    "    else:\n",
    "        print('도시형: 시골에 적응이 불가능합니다.')"
   ]
  },
  {
   "cell_type": "code",
   "execution_count": null,
   "metadata": {},
   "outputs": [],
   "source": []
  },
  {
   "cell_type": "code",
   "execution_count": null,
   "metadata": {},
   "outputs": [],
   "source": []
  }
 ],
 "metadata": {
  "kernelspec": {
   "display_name": "ai",
   "language": "python",
   "name": "ai"
  },
  "language_info": {
   "codemirror_mode": {
    "name": "ipython",
    "version": 3
   },
   "file_extension": ".py",
   "mimetype": "text/x-python",
   "name": "python",
   "nbconvert_exporter": "python",
   "pygments_lexer": "ipython3",
   "version": "3.7.11"
  }
 },
 "nbformat": 4,
 "nbformat_minor": 2
}