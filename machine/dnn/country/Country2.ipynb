{
 "cells": [
  {
   "cell_type": "markdown",
   "metadata": {},
   "source": [
    "## 이항 분류\n",
    "### 데이터를 그룹화 한 경우: country2.csv 사용의 경우\n",
    "- 데이터의 크기에 따라 미분시 가중치와 편향이 변경되는 크기가 다름 \n",
    "- 큰 규모의 데이터가 미분에 많은 변화의 영향을 발생시킨다.\n",
    "- 큰 규모의 비율 척도를 작은 정수의 구간척도로 변경하여 처리 권장"
   ]
  },
  {
   "cell_type": "code",
   "execution_count": 1,
   "metadata": {},
   "outputs": [],
   "source": [
    "# %autosave 0 \n",
    "import warnings\n",
    "warnings.filterwarnings(action='ignore') \n",
    "\n",
    "import os\n",
    "import time\n",
    "\n",
    "import numpy as np\n",
    "import tensorflow as tf\n",
    "import seaborn as sb\n",
    "\n",
    "from tensorflow.keras.models import Sequential  # class\n",
    "from tensorflow.keras.models import load_model  # model 파일 로딩\n",
    "from tensorflow.keras.layers import Dense       # 전결합층\n",
    "from tensorflow.keras.optimizers import Adam    # 가중치, bias 최적화\n",
    "from tensorflow.keras.utils import plot_model   # 네트워크 입출력 시각화\n",
    "from tensorflow.keras.callbacks import EarlyStopping # 학습 자동 중지\n",
    "from tensorflow.keras.callbacks import ModelCheckpoint # 모델 저장\n",
    "\n",
    "from sklearn.model_selection import train_test_split # 데이터 분할\n",
    "from sklearn.metrics import confusion_matrix  # 혼돈행렬, 이항분류 시각화\n",
    "from sklearn.metrics import roc_curve         # 분류 품질 시각화\n",
    "\n",
    "import matplotlib.pyplot as plt\n",
    "import matplotlib\n",
    "from matplotlib import rc\n",
    "rc('font', family='Malgun Gothic')\n",
    "\n",
    "# print(tf.__version__)"
   ]
  },
  {
   "cell_type": "code",
   "execution_count": 3,
   "metadata": {},
   "outputs": [
    {
     "name": "stdout",
     "output_type": "stream",
     "text": [
      "<class 'numpy.ndarray'>\n",
      "(100, 7)\n",
      "[[ 0.  0.  0.  5.  1.  0.  0.]\n",
      " [ 1.  0.  1.  6.  1.  0.  1.]\n",
      " [ 1.  1.  1. 10.  1.  0.  1.]\n",
      " [ 0.  0.  0. 10.  1.  0.  0.]\n",
      " [ 1.  0.  1. 10.  1.  2.  1.]\n",
      " [ 1.  0.  0.  0.  0.  1.  0.]\n",
      " [ 0.  0.  0.  5.  1.  0.  0.]\n",
      " [ 1.  0.  1.  6.  1.  0.  1.]\n",
      " [ 1.  1.  1. 10.  1.  3.  1.]\n",
      " [ 1.  0.  1.  2.  1.  1.  0.]\n",
      " [ 0.  1.  1. 10.  1.  3.  1.]\n",
      " [ 1.  0.  1. 10.  1.  3.  1.]\n",
      " [ 0.  0.  0.  5.  1.  0.  0.]\n",
      " [ 1.  0.  1.  6.  1.  0.  1.]\n",
      " [ 1.  1.  1. 10.  1.  1.  1.]\n",
      " [ 0.  0.  0. 10.  1.  1.  0.]\n",
      " [ 1.  0.  1. 10.  1.  3.  1.]\n",
      " [ 1.  1.  0. 10.  1.  3.  1.]\n",
      " [ 0.  0.  0.  5.  1.  0.  0.]\n",
      " [ 1.  0.  1.  6.  1.  0.  1.]\n",
      " [ 1.  1.  1. 10.  1.  1.  1.]\n",
      " [ 1.  0.  0.  3.  0.  1.  0.]\n",
      " [ 1.  1.  0. 10.  1.  3.  1.]\n",
      " [ 1.  1.  1. 10.  1.  2.  1.]\n",
      " [ 0.  0.  0.  5.  1.  0.  0.]\n",
      " [ 1.  0.  1.  6.  1.  0.  1.]\n",
      " [ 1.  0.  1. 10.  1.  3.  1.]\n",
      " [ 1.  1.  0.  7.  1.  0.  0.]\n",
      " [ 0.  0.  1. 10.  1.  1.  0.]\n",
      " [ 1.  1.  1. 10.  1.  3.  1.]\n",
      " [ 0.  0.  0.  5.  1.  0.  0.]\n",
      " [ 1.  0.  1.  6.  1.  0.  1.]\n",
      " [ 1.  1.  1. 10.  1.  0.  0.]\n",
      " [ 1.  1.  1. 10.  1.  0.  1.]\n",
      " [ 1.  0.  1. 10.  1.  3.  1.]\n",
      " [ 1.  0.  0.  0.  0.  1.  0.]\n",
      " [ 0.  0.  0.  5.  1.  0.  0.]\n",
      " [ 1.  0.  1.  6.  1.  0.  1.]\n",
      " [ 1.  1.  1. 10.  1.  3.  1.]\n",
      " [ 1.  0.  1.  2.  1.  3.  0.]\n",
      " [ 0.  1.  1. 10.  1.  2.  1.]\n",
      " [ 1.  0.  1.  8.  1.  1.  1.]\n",
      " [ 0.  0.  0.  5.  1.  0.  0.]\n",
      " [ 1.  0.  1.  6.  1.  0.  1.]\n",
      " [ 1.  1.  1. 10.  1.  1.  1.]\n",
      " [ 0.  0.  0. 10.  1.  1.  0.]\n",
      " [ 0.  0.  1.  5.  1.  3.  0.]\n",
      " [ 1.  1.  0. 10.  1.  3.  1.]\n",
      " [ 0.  0.  0.  5.  1.  0.  0.]\n",
      " [ 1.  0.  1.  6.  1.  0.  1.]\n",
      " [ 1.  1.  1. 10.  1.  1.  1.]\n",
      " [ 0.  1.  1.  3.  0.  1.  0.]\n",
      " [ 1.  1.  0.  7.  1.  3.  1.]\n",
      " [ 1.  1.  1.  7.  1.  2.  1.]\n",
      " [ 0.  0.  0.  5.  1.  0.  0.]\n",
      " [ 1.  0.  1.  6.  1.  0.  1.]\n",
      " [ 1.  0.  1. 10.  1.  2.  1.]\n",
      " [ 1.  1.  0.  7.  1.  0.  0.]\n",
      " [ 0.  0.  1. 10.  1.  1.  0.]\n",
      " [ 1.  1.  1. 10.  1.  3.  1.]\n",
      " [10.  0.  0.  5.  1.  0.  0.]\n",
      " [ 1.  0.  1.  6.  1.  0.  1.]\n",
      " [ 1.  1.  1. 10.  1.  0.  1.]\n",
      " [ 1.  1.  1. 10.  1.  0.  1.]\n",
      " [ 1.  0.  1. 10.  1.  3.  1.]\n",
      " [ 1.  0.  0.  0.  0.  3.  0.]\n",
      " [ 0.  0.  0.  5.  1.  0.  0.]\n",
      " [ 1.  0.  1.  6.  1.  0.  1.]\n",
      " [ 1.  1.  1. 10.  1.  3.  1.]\n",
      " [ 1.  0.  1.  2.  1.  1.  0.]\n",
      " [ 0.  1.  1. 10.  1.  3.  1.]\n",
      " [ 1.  0.  1. 10.  1.  3.  1.]\n",
      " [ 0.  0.  0.  5.  1.  0.  0.]\n",
      " [ 1.  0.  1.  6.  1.  0.  1.]\n",
      " [ 1.  1.  1. 10.  1.  1.  1.]\n",
      " [ 0.  0.  0.  5.  1.  1.  0.]\n",
      " [ 1.  0.  1. 10.  1.  3.  1.]\n",
      " [ 1.  1.  0. 10.  1.  3.  1.]\n",
      " [ 0.  0.  0.  5.  1.  0.  0.]\n",
      " [ 1.  0.  1.  6.  1.  0.  1.]\n",
      " [ 1.  1.  1. 10.  1.  1.  1.]\n",
      " [ 1.  1.  1. 10.  0.  1.  1.]\n",
      " [ 1.  0.  0.  1.  0.  1.  0.]\n",
      " [ 1.  1.  1. 10.  1.  2.  1.]\n",
      " [ 0.  0.  0.  5.  1.  0.  0.]\n",
      " [ 1.  0.  1.  6.  1.  0.  1.]\n",
      " [ 1.  0.  1. 10.  1.  3.  1.]\n",
      " [ 1.  1.  0.  5.  1.  0.  0.]\n",
      " [ 0.  0.  1.  5.  1.  1.  0.]\n",
      " [ 1.  1.  1. 10.  1.  3.  1.]\n",
      " [ 1.  1.  1. 10.  1.  1.  1.]\n",
      " [ 0.  0.  1.  5.  0.  1.  0.]\n",
      " [ 1.  1.  1. 10.  1.  3.  1.]\n",
      " [ 1.  1.  1. 10.  1.  2.  1.]\n",
      " [ 0.  0.  0.  5.  1.  0.  0.]\n",
      " [ 1.  0.  1.  6.  1.  0.  1.]\n",
      " [ 1.  1.  1. 10.  1.  3.  1.]\n",
      " [ 1.  1.  0.  7.  1.  0.  0.]\n",
      " [ 0.  0.  1.  5.  1.  1.  0.]\n",
      " [ 1.  1.  1. 10.  1.  3.  1.]]\n"
     ]
    }
   ],
   "source": [
    "data = np.loadtxt('./country2.csv', delimiter=\",\", dtype=np.float64)\n",
    "print(type(data))\n",
    "print(data.shape)  \n",
    "print(data)"
   ]
  },
  {
   "cell_type": "code",
   "execution_count": 5,
   "metadata": {},
   "outputs": [
    {
     "name": "stdout",
     "output_type": "stream",
     "text": [
      "(90, 6)\n",
      "(90,)\n",
      "(10, 6)\n",
      "(10,)\n"
     ]
    }
   ],
   "source": [
    "# 훈련용 + 검증용: 90 건\n",
    "x_train = data[0:90, 0:6] # 변수 6개, 0 ~ 5\n",
    "print(x_train.shape)\n",
    "y_train = data[0:90, 6]   # class 1개\n",
    "print(y_train.shape)\n",
    "# 테스트용: 10 건\n",
    "x_test =data[90:, 0:6]    # 변수 6개, 0 ~ 5\n",
    "print(x_test.shape)\n",
    "y_test =data[90:, 6]      # class 1개\n",
    "print(y_test.shape)"
   ]
  },
  {
   "cell_type": "code",
   "execution_count": 6,
   "metadata": {},
   "outputs": [
    {
     "name": "stdout",
     "output_type": "stream",
     "text": [
      "Model: \"sequential\"\n",
      "_________________________________________________________________\n",
      "Layer (type)                 Output Shape              Param #   \n",
      "=================================================================\n",
      "dense (Dense)                (None, 20)                140       \n",
      "_________________________________________________________________\n",
      "dense_1 (Dense)              (None, 15)                315       \n",
      "_________________________________________________________________\n",
      "dense_2 (Dense)              (None, 1)                 16        \n",
      "=================================================================\n",
      "Total params: 471\n",
      "Trainable params: 471\n",
      "Non-trainable params: 0\n",
      "_________________________________________________________________\n",
      "Epoch 1/1000\n",
      "72/72 [==============================] - 1s 6ms/step - loss: 1.3097 - accuracy: 0.4567 - val_loss: 0.6401 - val_accuracy: 0.8889\n",
      "\n",
      "Epoch 00001: val_accuracy improved from -inf to 0.88889, saving model to .\\Country2.h5\n",
      "Epoch 2/1000\n",
      "72/72 [==============================] - 0s 2ms/step - loss: 0.6094 - accuracy: 0.8128 - val_loss: 0.5104 - val_accuracy: 0.6111\n",
      "\n",
      "Epoch 00002: val_accuracy did not improve from 0.88889\n",
      "Epoch 3/1000\n",
      "72/72 [==============================] - 0s 2ms/step - loss: 0.5375 - accuracy: 0.7276 - val_loss: 0.4704 - val_accuracy: 0.7778\n",
      "\n",
      "Epoch 00003: val_accuracy did not improve from 0.88889\n",
      "Epoch 4/1000\n",
      "72/72 [==============================] - 0s 1ms/step - loss: 0.4861 - accuracy: 0.8108 - val_loss: 0.4208 - val_accuracy: 0.8889\n",
      "\n",
      "Epoch 00004: val_accuracy did not improve from 0.88889\n",
      "Epoch 5/1000\n",
      "72/72 [==============================] - 0s 2ms/step - loss: 0.4286 - accuracy: 0.9171 - val_loss: 0.3763 - val_accuracy: 0.8889\n",
      "\n",
      "Epoch 00005: val_accuracy did not improve from 0.88889\n",
      "Epoch 6/1000\n",
      "72/72 [==============================] - 0s 2ms/step - loss: 0.3283 - accuracy: 0.9141 - val_loss: 0.3407 - val_accuracy: 0.8889\n",
      "\n",
      "Epoch 00006: val_accuracy did not improve from 0.88889\n",
      "Epoch 7/1000\n",
      "72/72 [==============================] - 0s 1ms/step - loss: 0.3671 - accuracy: 0.8847 - val_loss: 0.3125 - val_accuracy: 0.8889\n",
      "\n",
      "Epoch 00007: val_accuracy did not improve from 0.88889\n",
      "Epoch 8/1000\n",
      "72/72 [==============================] - 0s 1ms/step - loss: 0.3131 - accuracy: 0.9421 - val_loss: 0.2831 - val_accuracy: 0.8889\n",
      "\n",
      "Epoch 00008: val_accuracy did not improve from 0.88889\n",
      "Epoch 9/1000\n",
      "72/72 [==============================] - 0s 1ms/step - loss: 0.2703 - accuracy: 0.8962 - val_loss: 0.2609 - val_accuracy: 0.8889\n",
      "\n",
      "Epoch 00009: val_accuracy did not improve from 0.88889\n",
      "Epoch 10/1000\n",
      "72/72 [==============================] - 0s 1ms/step - loss: 0.2124 - accuracy: 0.9525 - val_loss: 0.2356 - val_accuracy: 0.9444\n",
      "\n",
      "Epoch 00010: val_accuracy improved from 0.88889 to 0.94444, saving model to .\\Country2.h5\n",
      "Epoch 11/1000\n",
      "72/72 [==============================] - 0s 2ms/step - loss: 0.2335 - accuracy: 0.9541 - val_loss: 0.2257 - val_accuracy: 0.8889\n",
      "\n",
      "Epoch 00011: val_accuracy did not improve from 0.94444\n",
      "Epoch 12/1000\n",
      "72/72 [==============================] - 0s 2ms/step - loss: 0.2387 - accuracy: 0.9055 - val_loss: 0.2088 - val_accuracy: 0.8889\n",
      "\n",
      "Epoch 00012: val_accuracy did not improve from 0.94444\n",
      "Epoch 13/1000\n",
      "72/72 [==============================] - 0s 2ms/step - loss: 0.1637 - accuracy: 0.9811 - val_loss: 0.1870 - val_accuracy: 0.9444\n",
      "\n",
      "Epoch 00013: val_accuracy did not improve from 0.94444\n",
      "Epoch 14/1000\n",
      "72/72 [==============================] - 0s 1ms/step - loss: 0.1312 - accuracy: 0.9956 - val_loss: 0.1700 - val_accuracy: 0.9444\n",
      "\n",
      "Epoch 00014: val_accuracy did not improve from 0.94444\n",
      "Epoch 15/1000\n",
      "72/72 [==============================] - 0s 1ms/step - loss: 0.1700 - accuracy: 0.9699 - val_loss: 0.1571 - val_accuracy: 0.9444\n",
      "\n",
      "Epoch 00015: val_accuracy did not improve from 0.94444\n",
      "Runtime: 2 초\n"
     ]
    }
   ],
   "source": [
    "tf.random.set_seed(0)\n",
    "model = Sequential()\n",
    "model.add(Dense(20, input_dim=6, activation='relu')) # 기울기 소실 방지\n",
    "model.add(Dense(15, activation='relu')) # 기울기 소실 방지\n",
    "model.add(Dense(1, activation='sigmoid')) # True/False\n",
    "model.compile(optimizer='adam', loss='binary_crossentropy', \n",
    "              metrics=['accuracy'])\n",
    "model.summary()\n",
    "\n",
    "# patience=2: 학습 결과가 개선되지 않아도 학습을 진행할 횟수\n",
    "# restore_best_weights=True: 학습 종료시 가장 우수한 가중치, 편향으로 저장\n",
    "es= EarlyStopping(monitor='loss', patience=1, restore_best_weights=True)\n",
    "\n",
    "# 검증 정확도가 개선되었을 때만 학습 모델 파일로 저장\n",
    "# filepath=modelpath: 파일이 저장되는 경로와 파일명\n",
    "# monitor='val_accuracy': 검증 정확도 기준으로 판단\n",
    "# verbose=1: 기록되는 파일 정보 출력\n",
    "# save_best_only=True: 검증 정확도가 개선되면 파일로 저장\n",
    "mcp= ModelCheckpoint(filepath='./Country2.h5',\n",
    "                    monitor='val_accuracy',\n",
    "                    verbose=1, save_best_only=True)\n",
    "\n",
    "start = time.time()\n",
    "hist = model.fit(x_train, y_train, validation_split=0.2, shuffle=True,\n",
    "                epochs=1000, batch_size=1, callbacks=[es, mcp])\n",
    "end=time.time()\n",
    "print('Runtime: {0:.0f} 초'.format(end-start))"
   ]
  },
  {
   "cell_type": "code",
   "execution_count": 9,
   "metadata": {},
   "outputs": [
    {
     "data": {
      "text/plain": "<Figure size 720x360 with 2 Axes>",
      "image/png": "[encoded data removed]"
     },
     "metadata": {
      "needs_background": "light"
     },
     "output_type": "display_data"
    }
   ],
   "source": [
    "import matplotlib.pyplot as plt\n",
    "%matplotlib inline  \n",
    "\n",
    "fig, loss_ax = plt.subplots()\n",
    "# plt.figure(figsize=(6,4)) # ERROR\n",
    "fig.set_size_inches(10, 5)  # 챠트 크기 설정\n",
    "\n",
    "acc_ax = loss_ax.twinx()  # 오른쪽 y 출 설정\n",
    "\n",
    "# 왼쪽 y 축 설정\n",
    "loss_ax.plot(hist.history['loss'], 'y', label='train loss')\n",
    "loss_ax.plot(hist.history['val_loss'], 'r', label='val loss')\n",
    "loss_ax.set_ylim([0.0, 1.0]) # 값을 반영하여 변경\n",
    "\n",
    "# 오른쪽 y 축 설정\n",
    "acc_ax.plot(hist.history['accuracy'], 'b', label='train accuracy')\n",
    "acc_ax.plot(hist.history['val_accuracy'], 'g', label='val accuracy')\n",
    "acc_ax.set_ylim([0.0, 1]) # 0.0, 1: 0 ~ 100 %, 정확도임으로 변경하지 않음\n",
    "\n",
    "# 축 레이블 설정\n",
    "loss_ax.set_xlabel('epoch')  # 학습 횟수\n",
    "loss_ax.set_ylabel('loss')   # 오차\n",
    "acc_ax.set_ylabel('accuracy') # 정확도\n",
    "\n",
    "loss_ax.legend(loc='upper left') # 오차 레이블 위치\n",
    "acc_ax.legend(loc='lower left')  # 정확도 레이블 위치\n",
    "\n",
    "plt.show()"
   ]
  },
  {
   "cell_type": "code",
   "execution_count": 8,
   "metadata": {},
   "outputs": [
    {
     "name": "stdout",
     "output_type": "stream",
     "text": [
      "손실값: 0.3149970471858978 /정확도: 80.0000011920929 %\n"
     ]
    }
   ],
   "source": [
    "# verbose=0: 처리과정의 메시지 생략\n",
    "test_loss, test_acc = model.evaluate(x_test, y_test, batch_size=1, verbose=0)\n",
    "print('손실값:', test_loss, '/정확도:', (test_acc*100), '%')"
   ]
  },
  {
   "cell_type": "code",
   "execution_count": 7,
   "metadata": {},
   "outputs": [],
   "source": [
    "model = load_model('Country2.h5')"
   ]
  },
  {
   "cell_type": "code",
   "execution_count": 35,
   "metadata": {},
   "outputs": [],
   "source": [
    "# 1) 주당 음주 횟수: 0 ~ 3(3회 이상)\n",
    "# 2) 농촌에서 생활적이 있다: 0(없음), 1(있음)\n",
    "# 3) 가족중에 농촌에서 생활하고 있는 친척있는 여부: 0(없음), 1(있음)\n",
    "# 4) 1년동안의 여행 횟수: 0 ~ 12\n",
    "#     (12이상, 교통을 이용한 등산/캠핑, 당일, 국내, 국외 모두 해당)\n",
    "# 5) 집을 소유 할 수 있는 경제력: 0(없음), 1(있음)\n",
    "# 6) 경작 할 수 있는 토지 평수: 0 ~ (평)\n",
    "#     0: 없음, 1: 1 ~ 2000 미만, 2: 2000이상 ~ 3000미만, 3: 3000 이상\n",
    "# 7) 정착: 1, 실패: 0\n",
    "        \n",
    "drink = int(input('주당 음주 횟수는 (0 ~ 3(3회 이상)):'))\n",
    "life = int(input('농촌에서 생활한 경험(0(없음), 1(있음)):'))\n",
    "life2 = int(input('가족중에 농촌에서 생활하고 있는 친척있는 여부(0(없음), 1(있음)):'))\n",
    "trip = int(input('1년동안의 여행 횟수(0 ~ 12):'))\n",
    "house = int(input('집을 소유 할 수 있는 경제력(0(없음), 1(있음)):'))\n",
    "land = int(input('경작 할 수 있는 토지 평수(0: 없음, 1: 1 ~ 2000 미만, 2: 2000이상 ~ 3000미만, 3: 3000 이상):'))"
   ]
  },
  {
   "cell_type": "code",
   "execution_count": 36,
   "metadata": {},
   "outputs": [
    {
     "name": "stdout",
     "output_type": "stream",
     "text": [
      "(1, 6)\n",
      "[[0 1 1 1 0 0]]\n"
     ]
    }
   ],
   "source": [
    "data = []\n",
    "data.append(drink)\n",
    "data.append(life)\n",
    "data.append(life2)\n",
    "data.append(trip)\n",
    "data.append(house)\n",
    "data.append(land)\n",
    "\n",
    "x = np.array([\n",
    "             data,\n",
    "      ])\n",
    "print(x.shape)\n",
    "print(x)"
   ]
  },
  {
   "cell_type": "code",
   "execution_count": 37,
   "metadata": {},
   "outputs": [
    {
     "name": "stdout",
     "output_type": "stream",
     "text": [
      "[[0.39978376]]\n",
      "(1, 1)\n",
      "적응 확률: 39.978%\n",
      "도시형: 시골에 적응이 불가능합니다.\n"
     ]
    }
   ],
   "source": [
    "yp = model.predict(x)\n",
    "print(yp)\n",
    "print(yp.shape)\n",
    "\n",
    "for i in range(len(x)):\n",
    "    # print('적응 확률:', yp[i][0] * 100, ' %')\n",
    "    print('적응 확률: {0:.3f}%'.format(yp[i][0] * 100))\n",
    "    \n",
    "    if yp[i][0] >= 0.5:    # 기존 사례를 참고하여 결정\n",
    "        print('시골형: 시골에 적응 할 수 있습니다.')\n",
    "    else:\n",
    "        print('도시형: 시골에 적응이 불가능합니다.')"
   ]
  },
  {
   "cell_type": "code",
   "execution_count": null,
   "metadata": {},
   "outputs": [],
   "source": []
  },
  {
   "cell_type": "code",
   "execution_count": null,
   "metadata": {},
   "outputs": [],
   "source": []
  }
 ],
 "metadata": {
  "kernelspec": {
   "display_name": "ai",
   "language": "python",
   "name": "ai"
  },
  "language_info": {
   "codemirror_mode": {
    "name": "ipython",
    "version": 3
   },
   "file_extension": ".py",
   "mimetype": "text/x-python",
   "name": "python",
   "nbconvert_exporter": "python",
   "pygments_lexer": "ipython3",
   "version": "3.7.11"
  }
 },
 "nbformat": 4,
 "nbformat_minor": 4
}