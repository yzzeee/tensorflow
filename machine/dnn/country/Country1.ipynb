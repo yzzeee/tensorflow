{
 "cells": [
  {
   "cell_type": "markdown",
   "metadata": {},
   "source": [
    "## 이항 분류\n",
    "### 표준화를 하지 않은 데이터의 이용: country1.csv 사용의 경우"
   ]
  },
  {
   "cell_type": "code",
   "execution_count": 2,
   "metadata": {},
   "outputs": [],
   "source": [
    "# %autosave 0 \n",
    "import warnings\n",
    "warnings.filterwarnings(action='ignore') \n",
    "\n",
    "import os\n",
    "import time\n",
    "\n",
    "import numpy as np\n",
    "import tensorflow as tf\n",
    "import seaborn as sb\n",
    "\n",
    "from tensorflow.keras.models import Sequential  # class\n",
    "from tensorflow.keras.models import load_model  # model 파일 로딩\n",
    "from tensorflow.keras.layers import Dense       # 전결합층\n",
    "from tensorflow.keras.optimizers import Adam    # 가중치, bias 최적화\n",
    "from tensorflow.keras.utils import plot_model   # 네트워크 입출력 시각화\n",
    "from tensorflow.keras.callbacks import EarlyStopping # 학습 자동 중지\n",
    "from tensorflow.keras.callbacks import ModelCheckpoint # 모델 저장\n",
    "\n",
    "from sklearn.model_selection import train_test_split # 데이터 분할\n",
    "from sklearn.metrics import confusion_matrix  # 혼돈행렬, 이항분류 시각화\n",
    "from sklearn.metrics import roc_curve         # 분류 품질 시각화\n",
    "\n",
    "import matplotlib.pyplot as plt\n",
    "import matplotlib\n",
    "from matplotlib import rc\n",
    "rc('font', family='Malgun Gothic')\n",
    "\n",
    "# print(tf.__version__)"
   ]
  },
  {
   "cell_type": "code",
   "execution_count": 3,
   "metadata": {},
   "outputs": [
    {
     "name": "stdout",
     "output_type": "stream",
     "text": [
      "<class 'numpy.ndarray'>\n",
      "(100, 7)\n",
      "[[0.e+00 0.e+00 0.e+00 5.e+00 1.e+00 0.e+00 0.e+00]\n",
      " [1.e+00 0.e+00 1.e+00 6.e+00 1.e+00 0.e+00 1.e+00]\n",
      " [1.e+00 1.e+00 1.e+00 1.e+01 1.e+00 0.e+00 1.e+00]\n",
      " [0.e+00 0.e+00 0.e+00 1.e+01 1.e+00 0.e+00 0.e+00]\n",
      " [1.e+00 0.e+00 1.e+00 1.e+01 1.e+00 2.e+03 1.e+00]\n",
      " [1.e+00 0.e+00 0.e+00 0.e+00 0.e+00 1.e+03 0.e+00]\n",
      " [0.e+00 0.e+00 0.e+00 5.e+00 1.e+00 0.e+00 0.e+00]\n",
      " [1.e+00 0.e+00 1.e+00 6.e+00 1.e+00 0.e+00 1.e+00]\n",
      " [1.e+00 1.e+00 1.e+00 1.e+01 1.e+00 3.e+03 1.e+00]\n",
      " [1.e+00 0.e+00 1.e+00 2.e+00 1.e+00 1.e+03 0.e+00]\n",
      " [0.e+00 1.e+00 1.e+00 1.e+01 1.e+00 3.e+03 1.e+00]\n",
      " [1.e+00 0.e+00 1.e+00 1.e+01 1.e+00 3.e+03 1.e+00]\n",
      " [0.e+00 0.e+00 0.e+00 5.e+00 1.e+00 0.e+00 0.e+00]\n",
      " [1.e+00 0.e+00 1.e+00 6.e+00 1.e+00 0.e+00 1.e+00]\n",
      " [1.e+00 1.e+00 1.e+00 1.e+01 1.e+00 1.e+03 1.e+00]\n",
      " [0.e+00 0.e+00 0.e+00 1.e+01 1.e+00 1.e+03 0.e+00]\n",
      " [1.e+00 0.e+00 1.e+00 1.e+01 1.e+00 3.e+03 1.e+00]\n",
      " [1.e+00 1.e+00 0.e+00 1.e+01 1.e+00 3.e+03 1.e+00]\n",
      " [0.e+00 0.e+00 0.e+00 5.e+00 1.e+00 0.e+00 0.e+00]\n",
      " [1.e+00 0.e+00 1.e+00 6.e+00 1.e+00 0.e+00 1.e+00]\n",
      " [1.e+00 1.e+00 1.e+00 1.e+01 1.e+00 1.e+03 1.e+00]\n",
      " [1.e+00 0.e+00 0.e+00 3.e+00 0.e+00 1.e+03 0.e+00]\n",
      " [1.e+00 1.e+00 0.e+00 1.e+01 1.e+00 3.e+03 1.e+00]\n",
      " [1.e+00 1.e+00 1.e+00 1.e+01 1.e+00 2.e+03 1.e+00]\n",
      " [0.e+00 0.e+00 0.e+00 5.e+00 1.e+00 0.e+00 0.e+00]\n",
      " [1.e+00 0.e+00 1.e+00 6.e+00 1.e+00 0.e+00 1.e+00]\n",
      " [1.e+00 0.e+00 1.e+00 1.e+01 1.e+00 3.e+03 1.e+00]\n",
      " [1.e+00 1.e+00 0.e+00 7.e+00 1.e+00 0.e+00 0.e+00]\n",
      " [0.e+00 0.e+00 1.e+00 1.e+01 1.e+00 1.e+03 0.e+00]\n",
      " [1.e+00 1.e+00 1.e+00 1.e+01 1.e+00 3.e+03 1.e+00]\n",
      " [0.e+00 0.e+00 0.e+00 5.e+00 1.e+00 0.e+00 0.e+00]\n",
      " [1.e+00 0.e+00 1.e+00 6.e+00 1.e+00 0.e+00 1.e+00]\n",
      " [1.e+00 1.e+00 1.e+00 1.e+01 1.e+00 0.e+00 0.e+00]\n",
      " [1.e+00 1.e+00 1.e+00 1.e+01 1.e+00 0.e+00 1.e+00]\n",
      " [1.e+00 0.e+00 1.e+00 1.e+01 1.e+00 3.e+03 1.e+00]\n",
      " [1.e+00 0.e+00 0.e+00 0.e+00 0.e+00 1.e+03 0.e+00]\n",
      " [0.e+00 0.e+00 0.e+00 5.e+00 1.e+00 0.e+00 0.e+00]\n",
      " [1.e+00 0.e+00 1.e+00 6.e+00 1.e+00 0.e+00 1.e+00]\n",
      " [1.e+00 1.e+00 1.e+00 1.e+01 1.e+00 3.e+03 1.e+00]\n",
      " [1.e+00 0.e+00 1.e+00 2.e+00 1.e+00 3.e+03 0.e+00]\n",
      " [0.e+00 1.e+00 1.e+00 1.e+01 1.e+00 2.e+03 1.e+00]\n",
      " [1.e+00 0.e+00 1.e+00 8.e+00 1.e+00 1.e+03 1.e+00]\n",
      " [0.e+00 0.e+00 0.e+00 5.e+00 1.e+00 0.e+00 0.e+00]\n",
      " [1.e+00 0.e+00 1.e+00 6.e+00 1.e+00 0.e+00 1.e+00]\n",
      " [1.e+00 1.e+00 1.e+00 1.e+01 1.e+00 1.e+03 1.e+00]\n",
      " [0.e+00 0.e+00 0.e+00 1.e+01 1.e+00 1.e+03 0.e+00]\n",
      " [0.e+00 0.e+00 1.e+00 5.e+00 1.e+00 3.e+03 0.e+00]\n",
      " [1.e+00 1.e+00 0.e+00 1.e+01 1.e+00 3.e+03 1.e+00]\n",
      " [0.e+00 0.e+00 0.e+00 5.e+00 1.e+00 0.e+00 0.e+00]\n",
      " [1.e+00 0.e+00 1.e+00 6.e+00 1.e+00 0.e+00 1.e+00]\n",
      " [1.e+00 1.e+00 1.e+00 1.e+01 1.e+00 1.e+03 1.e+00]\n",
      " [0.e+00 1.e+00 1.e+00 3.e+00 0.e+00 1.e+03 0.e+00]\n",
      " [1.e+00 1.e+00 0.e+00 7.e+00 1.e+00 3.e+03 1.e+00]\n",
      " [1.e+00 1.e+00 1.e+00 7.e+00 1.e+00 2.e+03 1.e+00]\n",
      " [0.e+00 0.e+00 0.e+00 5.e+00 1.e+00 0.e+00 0.e+00]\n",
      " [1.e+00 0.e+00 1.e+00 6.e+00 1.e+00 0.e+00 1.e+00]\n",
      " [1.e+00 0.e+00 1.e+00 1.e+01 1.e+00 2.e+03 1.e+00]\n",
      " [1.e+00 1.e+00 0.e+00 7.e+00 1.e+00 0.e+00 0.e+00]\n",
      " [0.e+00 0.e+00 1.e+00 1.e+01 1.e+00 1.e+03 0.e+00]\n",
      " [1.e+00 1.e+00 1.e+00 1.e+01 1.e+00 3.e+03 1.e+00]\n",
      " [1.e+01 0.e+00 0.e+00 5.e+00 1.e+00 0.e+00 0.e+00]\n",
      " [1.e+00 0.e+00 1.e+00 6.e+00 1.e+00 0.e+00 1.e+00]\n",
      " [1.e+00 1.e+00 1.e+00 1.e+01 1.e+00 0.e+00 1.e+00]\n",
      " [1.e+00 1.e+00 1.e+00 1.e+01 1.e+00 0.e+00 1.e+00]\n",
      " [1.e+00 0.e+00 1.e+00 1.e+01 1.e+00 3.e+03 1.e+00]\n",
      " [1.e+00 0.e+00 0.e+00 0.e+00 0.e+00 3.e+03 0.e+00]\n",
      " [0.e+00 0.e+00 0.e+00 5.e+00 1.e+00 0.e+00 0.e+00]\n",
      " [1.e+00 0.e+00 1.e+00 6.e+00 1.e+00 0.e+00 1.e+00]\n",
      " [1.e+00 1.e+00 1.e+00 1.e+01 1.e+00 3.e+03 1.e+00]\n",
      " [1.e+00 0.e+00 1.e+00 2.e+00 1.e+00 1.e+03 0.e+00]\n",
      " [0.e+00 1.e+00 1.e+00 1.e+01 1.e+00 3.e+03 1.e+00]\n",
      " [1.e+00 0.e+00 1.e+00 1.e+01 1.e+00 3.e+03 1.e+00]\n",
      " [0.e+00 0.e+00 0.e+00 5.e+00 1.e+00 0.e+00 0.e+00]\n",
      " [1.e+00 0.e+00 1.e+00 6.e+00 1.e+00 0.e+00 1.e+00]\n",
      " [1.e+00 1.e+00 1.e+00 1.e+01 1.e+00 1.e+03 1.e+00]\n",
      " [0.e+00 0.e+00 0.e+00 5.e+00 1.e+00 1.e+03 0.e+00]\n",
      " [1.e+00 0.e+00 1.e+00 1.e+01 1.e+00 3.e+03 1.e+00]\n",
      " [1.e+00 1.e+00 0.e+00 1.e+01 1.e+00 3.e+03 1.e+00]\n",
      " [0.e+00 0.e+00 0.e+00 5.e+00 1.e+00 0.e+00 0.e+00]\n",
      " [1.e+00 0.e+00 1.e+00 6.e+00 1.e+00 0.e+00 1.e+00]\n",
      " [1.e+00 1.e+00 1.e+00 1.e+01 1.e+00 1.e+03 1.e+00]\n",
      " [1.e+00 1.e+00 1.e+00 1.e+01 0.e+00 1.e+03 1.e+00]\n",
      " [1.e+00 0.e+00 0.e+00 1.e+00 0.e+00 1.e+03 0.e+00]\n",
      " [1.e+00 1.e+00 1.e+00 1.e+01 1.e+00 2.e+03 1.e+00]\n",
      " [0.e+00 0.e+00 0.e+00 5.e+00 1.e+00 0.e+00 0.e+00]\n",
      " [1.e+00 0.e+00 1.e+00 6.e+00 1.e+00 0.e+00 1.e+00]\n",
      " [1.e+00 0.e+00 1.e+00 1.e+01 1.e+00 3.e+03 1.e+00]\n",
      " [1.e+00 1.e+00 0.e+00 5.e+00 1.e+00 0.e+00 0.e+00]\n",
      " [0.e+00 0.e+00 1.e+00 5.e+00 1.e+00 1.e+03 0.e+00]\n",
      " [1.e+00 1.e+00 1.e+00 1.e+01 1.e+00 3.e+03 1.e+00]\n",
      " [1.e+00 1.e+00 1.e+00 1.e+01 1.e+00 1.e+03 1.e+00]\n",
      " [0.e+00 0.e+00 1.e+00 5.e+00 0.e+00 1.e+03 0.e+00]\n",
      " [1.e+00 1.e+00 1.e+00 1.e+01 1.e+00 3.e+03 1.e+00]\n",
      " [1.e+00 1.e+00 1.e+00 1.e+01 1.e+00 2.e+03 1.e+00]\n",
      " [0.e+00 0.e+00 0.e+00 5.e+00 1.e+00 0.e+00 0.e+00]\n",
      " [1.e+00 0.e+00 1.e+00 6.e+00 1.e+00 0.e+00 1.e+00]\n",
      " [1.e+00 1.e+00 1.e+00 1.e+01 1.e+00 3.e+03 1.e+00]\n",
      " [1.e+00 1.e+00 0.e+00 7.e+00 1.e+00 0.e+00 0.e+00]\n",
      " [0.e+00 0.e+00 1.e+00 5.e+00 1.e+00 1.e+03 0.e+00]\n",
      " [1.e+00 1.e+00 1.e+00 1.e+01 1.e+00 3.e+03 1.e+00]]\n"
     ]
    }
   ],
   "source": [
    "data = np.loadtxt('./country1.csv', delimiter=\",\", dtype=np.float64)\n",
    "print(type(data))\n",
    "print(data.shape)  \n",
    "print(data)"
   ]
  },
  {
   "cell_type": "code",
   "execution_count": 4,
   "metadata": {},
   "outputs": [
    {
     "name": "stdout",
     "output_type": "stream",
     "text": [
      "(90, 6)\n",
      "(90,)\n",
      "(10, 6)\n",
      "(10,)\n"
     ]
    }
   ],
   "source": [
    "# 훈련용 + 검증용: 90 건\n",
    "x_train = data[0:90, 0:6] # 변수 6개, 0 ~ 5\n",
    "print(x_train.shape)\n",
    "y_train = data[0:90, 6]   # class 1개\n",
    "print(y_train.shape)\n",
    "# 테스트용: 10 건\n",
    "x_test =data[90:, 0:6]    # 변수 6개, 0 ~ 5\n",
    "print(x_test.shape)\n",
    "y_test =data[90:, 6]      # class 1개\n",
    "print(y_test.shape)"
   ]
  },
  {
   "cell_type": "code",
   "execution_count": 5,
   "metadata": {},
   "outputs": [
    {
     "name": "stdout",
     "output_type": "stream",
     "text": [
      "Model: \"sequential\"\n",
      "_________________________________________________________________\n",
      "Layer (type)                 Output Shape              Param #   \n",
      "=================================================================\n",
      "dense (Dense)                (None, 20)                140       \n",
      "_________________________________________________________________\n",
      "dense_1 (Dense)              (None, 15)                315       \n",
      "_________________________________________________________________\n",
      "dense_2 (Dense)              (None, 1)                 16        \n",
      "=================================================================\n",
      "Total params: 471\n",
      "Trainable params: 471\n",
      "Non-trainable params: 0\n",
      "_________________________________________________________________\n",
      "Epoch 1/1000\n",
      "72/72 [==============================] - 1s 6ms/step - loss: 107.8087 - accuracy: 0.4837 - val_loss: 7.3090 - val_accuracy: 0.6667\n",
      "\n",
      "Epoch 00001: val_accuracy improved from -inf to 0.66667, saving model to .\\Country1.h5\n",
      "Epoch 2/1000\n",
      "72/72 [==============================] - 0s 1ms/step - loss: 9.3904 - accuracy: 0.5320 - val_loss: 4.3240 - val_accuracy: 0.3889\n",
      "\n",
      "Epoch 00002: val_accuracy did not improve from 0.66667\n",
      "Epoch 3/1000\n",
      "72/72 [==============================] - 0s 2ms/step - loss: 3.5196 - accuracy: 0.5139 - val_loss: 2.0336 - val_accuracy: 0.7778\n",
      "\n",
      "Epoch 00003: val_accuracy improved from 0.66667 to 0.77778, saving model to .\\Country1.h5\n",
      "Epoch 4/1000\n",
      "72/72 [==============================] - 0s 2ms/step - loss: 3.9999 - accuracy: 0.6784 - val_loss: 1.8371 - val_accuracy: 0.7778\n",
      "\n",
      "Epoch 00004: val_accuracy did not improve from 0.77778\n",
      "Runtime: 1 초\n"
     ]
    }
   ],
   "source": [
    "tf.random.set_seed(0)\n",
    "model = Sequential()\n",
    "model.add(Dense(20, input_dim=6, activation='relu')) # 기울기 소실 방지\n",
    "model.add(Dense(15, activation='relu')) # 기울기 소실 방지\n",
    "model.add(Dense(1, activation='sigmoid')) # True/False\n",
    "model.compile(optimizer='adam', loss='binary_crossentropy', \n",
    "              metrics=['accuracy'])\n",
    "model.summary()\n",
    "\n",
    "# patience=2: 학습 결과가 개선되지 않아도 학습을 진행할 횟수\n",
    "# restore_best_weights=True: 학습 종료시 가장 우수한 가중치, 편향으로 저장\n",
    "es= EarlyStopping(monitor='loss', patience=1, restore_best_weights=True)\n",
    "\n",
    "# 검증 정확도가 개선되었을 때만 학습 모델 파일로 저장\n",
    "# filepath=modelpath: 파일이 저장되는 경로와 파일명\n",
    "# monitor='val_accuracy': 검증 정확도 기준으로 판단\n",
    "# verbose=1: 기록되는 파일 정보 출력\n",
    "# save_best_only=True: 검증 정확도가 개선되면 파일로 저장\n",
    "mcp= ModelCheckpoint(filepath='./Country1.h5',\n",
    "                    monitor='val_accuracy',\n",
    "                    verbose=1, save_best_only=True)\n",
    "\n",
    "start = time.time()\n",
    "hist = model.fit(x_train, y_train, validation_split=0.2, shuffle=True,\n",
    "                epochs=1000, batch_size=1, callbacks=[es, mcp])\n",
    "end=time.time()\n",
    "print('Runtime: {0:.0f} 초'.format(end-start))"
   ]
  },
  {
   "cell_type": "code",
   "execution_count": 6,
   "metadata": {},
   "outputs": [
    {
     "data": {
      "text/plain": "<Figure size 720x360 with 2 Axes>",
      "image/png": "[encoded data removed]"
     },
     "metadata": {
      "needs_background": "light"
     },
     "output_type": "display_data"
    }
   ],
   "source": [
    "import matplotlib.pyplot as plt\n",
    "%matplotlib inline  \n",
    "\n",
    "fig, loss_ax = plt.subplots()\n",
    "# plt.figure(figsize=(6,4)) # ERROR\n",
    "fig.set_size_inches(10, 5)  # 챠트 크기 설정\n",
    "\n",
    "acc_ax = loss_ax.twinx()  # 오른쪽 y 출 설정\n",
    "\n",
    "# 왼쪽 y 축 설정\n",
    "loss_ax.plot(hist.history['loss'], 'y', label='train loss')\n",
    "loss_ax.plot(hist.history['val_loss'], 'r', label='val loss')\n",
    "loss_ax.set_ylim([0.0, 5.0]) # 값을 반영하여 변경\n",
    "\n",
    "# 오른쪽 y 축 설정\n",
    "acc_ax.plot(hist.history['accuracy'], 'b', label='train accuracy')\n",
    "acc_ax.plot(hist.history['val_accuracy'], 'g', label='val accuracy')\n",
    "acc_ax.set_ylim([0.0, 1]) # 0.0, 1: 0 ~ 100 %, 정확도임으로 변경하지 않음\n",
    "\n",
    "# 축 레이블 설정\n",
    "loss_ax.set_xlabel('epoch')  # 학습 횟수\n",
    "loss_ax.set_ylabel('loss')   # 오차\n",
    "acc_ax.set_ylabel('accuracy') # 정확도\n",
    "\n",
    "loss_ax.legend(loc='upper left') # 오차 레이블 위치\n",
    "acc_ax.legend(loc='lower left')  # 정확도 레이블 위치\n",
    "\n",
    "plt.show()"
   ]
  },
  {
   "cell_type": "code",
   "execution_count": 8,
   "metadata": {},
   "outputs": [
    {
     "name": "stdout",
     "output_type": "stream",
     "text": [
      "10/10 [==============================] - 0s 776us/step - loss: 2.3311 - accuracy: 0.7000\n",
      "손실값: 2.3311429023742676 /정확도: 69.9999988079071 %\n"
     ]
    }
   ],
   "source": [
    "# verbose=0: 처리과정의 메시지 생략\n",
    "test_loss, test_acc = model.evaluate(x_test, y_test, batch_size=1)\n",
    "print('손실값:', test_loss, '/정확도:', (test_acc*100), '%')"
   ]
  },
  {
   "cell_type": "code",
   "execution_count": null,
   "outputs": [],
   "source": [],
   "metadata": {
    "collapsed": false,
    "pycharm": {
     "name": "#%%\n"
    }
   }
  }
 ],
 "metadata": {
  "kernelspec": {
   "display_name": "ai",
   "language": "python",
   "name": "ai"
  },
  "language_info": {
   "codemirror_mode": {
    "name": "ipython",
    "version": 3
   },
   "file_extension": ".py",
   "mimetype": "text/x-python",
   "name": "python",
   "nbconvert_exporter": "python",
   "pygments_lexer": "ipython3",
   "version": "3.7.11"
  }
 },
 "nbformat": 4,
 "nbformat_minor": 4
}