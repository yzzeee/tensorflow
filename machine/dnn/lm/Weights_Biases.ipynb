{
 "cells": [
  {
   "cell_type": "code",
   "execution_count": 4,
   "metadata": {},
   "outputs": [
    {
     "name": "stdout",
     "output_type": "stream",
     "text": [
      "[[1]\n",
      " [3]]\n",
      "[[5]\n",
      " [7]]\n",
      "--------\n",
      "[[[1 5]]\n",
      "\n",
      " [[3 7]]]\n"
     ]
    }
   ],
   "source": [
    "import numpy as np\n",
    "\n",
    "a = np.array([[1], [3]])\n",
    "b = np.array([[5], [7]])\n",
    "c = np.dstack([a, b])  # 각행의 행들을 열방향으로 배열 결합\n",
    "\n",
    "print(a)\n",
    "print(b)\n",
    "print(\"--------\")\n",
    "print(c)"
   ]
  },
  {
   "cell_type": "code",
   "execution_count": 2,
   "metadata": {},
   "outputs": [
    {
     "name": "stdout",
     "output_type": "stream",
     "text": [
      "2.4.1\n"
     ]
    }
   ],
   "source": [
    "# %autosave 0\n",
    "import numpy as np\n",
    "import tensorflow\n",
    "import tensorflow as tf\n",
    "\n",
    "# tensorflow 2.0에 내장된 Keras 사용\n",
    "from tensorflow.keras.models import Sequential  # class\n",
    "from tensorflow.keras.models import load_model  # model 사용 함수\n",
    "from tensorflow.keras.layers import Dense       # 전결합층\n",
    "from tensorflow.keras.optimizers import Adam    # 가중치, bias 최적화\n",
    "from tensorflow.keras.callbacks import Callback\n",
    "\n",
    "# tensorflow 1.x, Keras가 독립적으로 설치된 경우\n",
    "# from keras.models import Sequential  # class\n",
    "# from keras.models import load_model  # model 사용 함수\n",
    "# from keras.layers import Dense       # class\n",
    "\n",
    "print(tf.__version__)"
   ]
  },
  {
   "cell_type": "code",
   "execution_count": 3,
   "metadata": {},
   "outputs": [
    {
     "name": "stdout",
     "output_type": "stream",
     "text": [
      "[ 1  2  3  4  5  6  7  8  9 10 11 12 13 14 15 16 17 18 19 20]\n",
      "[ 2  4  6  8 10 12 14 16 18 20 22 24 26 28 30 32 34 36 38 40]\n"
     ]
    }
   ],
   "source": [
    "# 데이터\n",
    "x_train = np.array([i for i in range(1, 21)])\n",
    "\n",
    "# 정답(Target, 실제값)\n",
    "y_train = np.array([i for i in range(2, 42, 2)])\n",
    "\n",
    "print(x_train)\n",
    "print(y_train)"
   ]
  },
  {
   "cell_type": "code",
   "execution_count": 5,
   "metadata": {},
   "outputs": [],
   "source": [
    "from tensorflow.keras.callbacks import Callback\n",
    "\n",
    "# Callback class: 훈련중에 개발자가 제작한 특정 함수등을 실행 가능\n",
    "# Callback class를 상속받아 GetWeights class를 구현\n",
    "class GetWeights(Callback):\n",
    "    # 가중치와 Bias를 저장할 Dictionary 선언 \n",
    "    def __init__(self):\n",
    "        super(GetWeights, self).__init__()\n",
    "        self.weight_dict = {}\n",
    "\n",
    "    # 각각의 학습이 끝난 후 실행       \n",
    "    def on_epoch_end(self, epoch, logs=None):\n",
    "        \n",
    "        # Layer 수만큼 순환 하면서 weights, biases 수집\n",
    "        for layer_i in range(len(self.model.layers)):\n",
    "            w = self.model.layers[layer_i].get_weights()[0] # 가중치\n",
    "            b = self.model.layers[layer_i].get_weights()[1] # 편향\n",
    "            print('Layer %s has weights of shape %s and biases of shape %s' %(layer_i, np.shape(w), np.shape(b)))\n",
    "            print('Epoch:', epoch)\n",
    "\n",
    "            # 첫번째 학습(0)이라면 np.dstack 함수를 사용하지 말고 dictionary에 weights, biases 저장\n",
    "            if epoch == 0:\n",
    "                self.weight_dict['w_'+str(layer_i+1)] = w\n",
    "                self.weight_dict['b_'+str(layer_i+1)] = b\n",
    "                \n",
    "            else: # 두번째 학습부터 이전에 만든 가중치 배열에 새 가중치를 추가\n",
    "                self.weight_dict['w_'+str(layer_i+1)] = np.dstack((self.weight_dict['w_'+str(layer_i+1)], w))\n",
    "                self.weight_dict['b_'+str(layer_i+1)] = np.dstack((self.weight_dict['b_'+str(layer_i+1)], b))"
   ]
  },
  {
   "cell_type": "markdown",
   "metadata": {},
   "source": [
    "### 1 epoch, 전체 데이터 1회 학습"
   ]
  },
  {
   "cell_type": "code",
   "execution_count": 7,
   "metadata": {},
   "outputs": [
    {
     "name": "stdout",
     "output_type": "stream",
     "text": [
      "Model: \"sequential_1\"\n",
      "_________________________________________________________________\n",
      "Layer (type)                 Output Shape              Param #   \n",
      "=================================================================\n",
      "dense_3 (Dense)              (None, 3)                 6         \n",
      "_________________________________________________________________\n",
      "dense_4 (Dense)              (None, 2)                 8         \n",
      "_________________________________________________________________\n",
      "dense_5 (Dense)              (None, 1)                 3         \n",
      "=================================================================\n",
      "Total params: 17\n",
      "Trainable params: 17\n",
      "Non-trainable params: 0\n",
      "_________________________________________________________________\n",
      "16/16 [==============================] - 1s 32ms/step - loss: 219.2789 - val_loss: 778.6681\n",
      "Layer 0 has weights of shape (1, 3) and biases of shape (3,)\n",
      "Epoch: 0\n",
      "Layer 1 has weights of shape (3, 2) and biases of shape (2,)\n",
      "Epoch: 0\n",
      "Layer 2 has weights of shape (2, 1) and biases of shape (1,)\n",
      "Epoch: 0\n"
     ]
    }
   ],
   "source": [
    "tf.random.set_seed(0) # 가중치, 편향이 일정하게 변경됨\n",
    "model = Sequential()\n",
    "model.add(Dense(3, input_dim=1, activation='linear'))\n",
    "model.add(Dense(2, activation='linear'))\n",
    "model.add(Dense(1, activation='linear'))\n",
    "\n",
    "model.compile(optimizer=Adam(lr=0.001), loss='mse')\n",
    "model.summary()\n",
    "\n",
    "gw = GetWeights()\n",
    "hist = model.fit(x_train, y_train, validation_split=0.2, shuffle=True,\n",
    "                 epochs=1, batch_size=1, callbacks=[gw])"
   ]
  },
  {
   "cell_type": "code",
   "execution_count": 8,
   "metadata": {},
   "outputs": [
    {
     "name": "stdout",
     "output_type": "stream",
     "text": [
      "<class 'dict'>\n",
      "{'w_1': array([[-0.522119  , -0.7313916 ,  0.07418509]], dtype=float32), 'b_1': array([-0.01457292, -0.01463656, -0.0145136 ], dtype=float32), 'w_2': array([[ 0.13398203, -0.62317073],\n",
      "       [ 0.812081  ,  0.59494907],\n",
      "       [ 0.30550095,  0.07893033]], dtype=float32), 'b_2': array([-0.01456596,  0.01454437], dtype=float32), 'w_3': array([[-0.8746521 ],\n",
      "       [ 0.66687274]], dtype=float32), 'b_3': array([0.01455653], dtype=float32)}\n"
     ]
    }
   ],
   "source": [
    "print(type(gw.weight_dict))\n",
    "print(gw.weight_dict)\n",
    "# {\n",
    "#     첫번재 층의 가중치들\n",
    "#     'w_1': array([[ -0.522119  , -0.7313916 ,  0.07418509]], dtype=float32),\n",
    "#     'b_1': array([-0.01457292, -0.01463656, -0.0145136], dtype=float32),\n",
    "    \n",
    "#     두번재 층의 가중치들\n",
    "#     'w_2': array([[0.13398203, -0.62317073],\n",
    "#                   [0.812081  ,  0.59494907],\n",
    "#                   [0.30550095,  0.07893033]], dtype=float32),\n",
    "#     'b_2': array([-0.01456596,  0.01454437], dtype=float32), \n",
    "    \n",
    "#     세번재 층의 가중치들\n",
    "#     'w_3': array([[-0.8746521 ], [ 0.66687274]], dtype=float32), \n",
    "#     'b_3': array([0.01455653], dtype=float32)\n",
    "# }"
   ]
  },
  {
   "cell_type": "code",
   "execution_count": 9,
   "metadata": {},
   "outputs": [
    {
     "name": "stdout",
     "output_type": "stream",
     "text": [
      "-0.522119\n"
     ]
    }
   ],
   "source": [
    "weight = gw.weight_dict[\"w_1\"]\n",
    "print(weight[0][0])"
   ]
  },
  {
   "cell_type": "code",
   "execution_count": 10,
   "metadata": {
    "scrolled": true
   },
   "outputs": [
    {
     "name": "stdout",
     "output_type": "stream",
     "text": [
      "w_1 shape: (1, 3)\n",
      "[[-0.522119   -0.7313916   0.07418509]]\n",
      "---------------------------------------\n",
      "b_1 shape: (3,)\n",
      "[-0.01457292 -0.01463656 -0.0145136 ]\n",
      "---------------------------------------\n",
      "w_2 shape: (3, 2)\n",
      "[[ 0.13398203 -0.62317073]\n",
      " [ 0.812081    0.59494907]\n",
      " [ 0.30550095  0.07893033]]\n",
      "---------------------------------------\n",
      "b_2 shape: (2,)\n",
      "[-0.01456596  0.01454437]\n",
      "---------------------------------------\n",
      "w_3 shape: (2, 1)\n",
      "[[-0.8746521 ]\n",
      " [ 0.66687274]]\n",
      "---------------------------------------\n",
      "b_3 shape: (1,)\n",
      "[0.01455653]\n",
      "---------------------------------------\n"
     ]
    }
   ],
   "source": [
    "for key in gw.weight_dict: # 키 산출\n",
    "    print(str(key) + ' shape: %s' %str(np.shape(gw.weight_dict[key])))  # 면, 행, 열\n",
    "    print(gw.weight_dict[key])\n",
    "    print('---------------------------------------')"
   ]
  },
  {
   "cell_type": "markdown",
   "metadata": {},
   "source": [
    "### 4 epoch, 전체 데이터 4회 학습"
   ]
  },
  {
   "cell_type": "code",
   "execution_count": 11,
   "metadata": {},
   "outputs": [
    {
     "name": "stdout",
     "output_type": "stream",
     "text": [
      "Model: \"sequential_2\"\n",
      "_________________________________________________________________\n",
      "Layer (type)                 Output Shape              Param #   \n",
      "=================================================================\n",
      "dense_6 (Dense)              (None, 3)                 6         \n",
      "_________________________________________________________________\n",
      "dense_7 (Dense)              (None, 2)                 8         \n",
      "_________________________________________________________________\n",
      "dense_8 (Dense)              (None, 1)                 3         \n",
      "=================================================================\n",
      "Total params: 17\n",
      "Trainable params: 17\n",
      "Non-trainable params: 0\n",
      "_________________________________________________________________\n",
      "Epoch 1/4\n",
      "16/16 [==============================] - 0s 11ms/step - loss: 219.2789 - val_loss: 778.6681\n",
      "Layer 0 has weights of shape (1, 3) and biases of shape (3,)\n",
      "Epoch: 0\n",
      "Layer 1 has weights of shape (3, 2) and biases of shape (2,)\n",
      "Epoch: 0\n",
      "Layer 2 has weights of shape (2, 1) and biases of shape (1,)\n",
      "Epoch: 0\n",
      "Epoch 2/4\n",
      "16/16 [==============================] - 0s 4ms/step - loss: 212.1785 - val_loss: 730.1063\n",
      "Layer 0 has weights of shape (1, 3) and biases of shape (3,)\n",
      "Epoch: 1\n",
      "Layer 1 has weights of shape (3, 2) and biases of shape (2,)\n",
      "Epoch: 1\n",
      "Layer 2 has weights of shape (2, 1) and biases of shape (1,)\n",
      "Epoch: 1\n",
      "Epoch 3/4\n",
      "16/16 [==============================] - 0s 3ms/step - loss: 209.1148 - val_loss: 678.3107\n",
      "Layer 0 has weights of shape (1, 3) and biases of shape (3,)\n",
      "Epoch: 2\n",
      "Layer 1 has weights of shape (3, 2) and biases of shape (2,)\n",
      "Epoch: 2\n",
      "Layer 2 has weights of shape (2, 1) and biases of shape (1,)\n",
      "Epoch: 2\n",
      "Epoch 4/4\n",
      "16/16 [==============================] - 0s 3ms/step - loss: 263.0395 - val_loss: 627.9302\n",
      "Layer 0 has weights of shape (1, 3) and biases of shape (3,)\n",
      "Epoch: 3\n",
      "Layer 1 has weights of shape (3, 2) and biases of shape (2,)\n",
      "Epoch: 3\n",
      "Layer 2 has weights of shape (2, 1) and biases of shape (1,)\n",
      "Epoch: 3\n"
     ]
    }
   ],
   "source": [
    "tf.random.set_seed(0)\n",
    "model = Sequential()\n",
    "model.add(Dense(3, input_dim=1, activation='linear'))\n",
    "model.add(Dense(2, activation='linear'))\n",
    "model.add(Dense(1, activation='linear'))\n",
    "\n",
    "model.compile(optimizer=Adam(lr=0.001), loss='mse')\n",
    "model.summary()\n",
    "\n",
    "gw = GetWeights()\n",
    "hist = model.fit(x_train, y_train, validation_split=0.2, shuffle=True,\n",
    "                 epochs=4, batch_size=1, callbacks=[gw])"
   ]
  },
  {
   "cell_type": "code",
   "execution_count": 12,
   "metadata": {
    "pycharm": {
     "name": "#%%\n"
    }
   },
   "outputs": [
    {
     "name": "stdout",
     "output_type": "stream",
     "text": [
      "w_1 shape: (1, 3, 4)\n",
      "[[[-0.522119   -0.53371495 -0.54630625 -0.558742  ]\n",
      "  [-0.7313916  -0.74330246 -0.7565842  -0.77003616]\n",
      "  [ 0.07418509  0.0629003   0.05105627  0.03978945]]]\n",
      "---------------------------------------\n",
      "b_1 shape: (1, 3, 4)\n",
      "[[[-0.01457292 -0.02811802 -0.04227672 -0.05645445]\n",
      "  [-0.01463656 -0.02855383 -0.04352024 -0.05890631]\n",
      "  [-0.0145136  -0.02769074 -0.04098279 -0.05377849]]]\n",
      "---------------------------------------\n",
      "w_2 shape: (3, 2, 4)\n",
      "[[[ 0.13398203  0.14563543  0.15835534  0.1709879 ]\n",
      "  [-0.62317073 -0.63471246 -0.64716756 -0.6593824 ]]\n",
      "\n",
      " [[ 0.812081    0.82370824  0.83637     0.8489152 ]\n",
      "  [ 0.59494907  0.58343387  0.571038    0.55891186]]\n",
      "\n",
      " [[ 0.30550095  0.29461062  0.2838476   0.27459118]\n",
      "  [ 0.07893033  0.08970375  0.10018678  0.10904118]]]\n",
      "---------------------------------------\n",
      "b_2 shape: (1, 2, 4)\n",
      "[[[-0.01456596 -0.02806749 -0.04212009 -0.05611625]\n",
      "  [ 0.01454437  0.02791271  0.04165311  0.05514985]]]\n",
      "---------------------------------------\n",
      "w_3 shape: (2, 1, 4)\n",
      "[[[-0.8746521  -0.8863573  -0.89919174 -0.9119999 ]]\n",
      "\n",
      " [[ 0.66687274  0.6559519   0.6451169   0.6357398 ]]]\n",
      "---------------------------------------\n",
      "b_3 shape: (1, 1, 4)\n",
      "[[[0.01455653 0.02799959 0.04191333 0.05568201]]]\n",
      "---------------------------------------\n"
     ]
    }
   ],
   "source": [
    "for key in gw.weight_dict:\n",
    "    print(str(key) + ' shape: %s' %str(np.shape(gw.weight_dict[key])))  # 면, 행, 열\n",
    "    print(gw.weight_dict[key])\n",
    "    print('---------------------------------------')"
   ]
  }
 ],
 "metadata": {
  "kernelspec": {
   "display_name": "ai",
   "language": "python",
   "name": "ai"
  },
  "language_info": {
   "codemirror_mode": {
    "name": "ipython",
    "version": 3
   },
   "file_extension": ".py",
   "mimetype": "text/x-python",
   "name": "python",
   "nbconvert_exporter": "python",
   "pygments_lexer": "ipython3",
   "version": "3.7.11"
  }
 },
 "nbformat": 4,
 "nbformat_minor": 2
}