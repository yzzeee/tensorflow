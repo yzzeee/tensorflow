{
 "cells": [
  {
   "cell_type": "markdown",
   "metadata": {},
   "source": [
    "## 이항 분류\n",
    "### EarlyStopping, ModelCheckpoint, Confusion Matrix, ROC curve"
   ]
  },
  {
   "cell_type": "code",
   "execution_count": 36,
   "metadata": {},
   "outputs": [],
   "source": [
    "# %autosave 0 \n",
    "import warnings\n",
    "warnings.filterwarnings(action='ignore') \n",
    "\n",
    "import os\n",
    "import time\n",
    "\n",
    "import numpy as np\n",
    "import tensorflow as tf\n",
    "import seaborn as sb\n",
    "\n",
    "from tensorflow.keras.models import Sequential  # class\n",
    "from tensorflow.keras.models import load_model  # model 파일 로딩\n",
    "from tensorflow.keras.layers import Dense       # 전결합층\n",
    "from tensorflow.keras.optimizers import Adam    # 가중치, bias 최적화\n",
    "from tensorflow.keras.utils import plot_model   # 네트워크 입출력 시각화\n",
    "from tensorflow.keras.callbacks import EarlyStopping # 학습 자동 중지\n",
    "from tensorflow.keras.callbacks import ModelCheckpoint # 모델 저장\n",
    "\n",
    "from sklearn.model_selection import train_test_split # 데이터 분할\n",
    "from sklearn.metrics import confusion_matrix  # 혼돈행렬, 이항분류 시각화\n",
    "from sklearn.metrics import roc_curve         # 분류 품질 시각화\n",
    "\n",
    "import matplotlib.pyplot as plt\n",
    "import matplotlib\n",
    "from matplotlib import rc\n",
    "rc('font', family='Malgun Gothic')\n",
    "\n",
    "# print(tf.__version__)"
   ]
  },
  {
   "cell_type": "code",
   "execution_count": 23,
   "metadata": {},
   "outputs": [
    {
     "name": "stdout",
     "output_type": "stream",
     "text": [
      "<class 'numpy.ndarray'>\n",
      "(6497, 13)\n"
     ]
    }
   ],
   "source": [
    "data = np.loadtxt('./wine.csv', delimiter=\",\", dtype=np.float64)\n",
    "print(type(data))\n",
    "print(data.shape)  # 6497행 13열"
   ]
  },
  {
   "cell_type": "code",
   "execution_count": 24,
   "metadata": {},
   "outputs": [
    {
     "name": "stdout",
     "output_type": "stream",
     "text": [
      "(6497, 12)\n",
      "(6497,)\n"
     ]
    }
   ],
   "source": [
    "X = data[:, 0:12]  # 0 ~ 11, 12개의 데이터 변수 추출\n",
    "print(X.shape)     # 2차원 배열\n",
    "Y = data[:, 12]    # 13번째 변수, class, 정답\n",
    "print(Y.shape)     # 1차원 배열"
   ]
  },
  {
   "cell_type": "code",
   "execution_count": 25,
   "metadata": {},
   "outputs": [],
   "source": [
    "# 데이터의 구성은 훈련, 검증, 테스트로 구성"
   ]
  },
  {
   "cell_type": "code",
   "execution_count": 26,
   "metadata": {},
   "outputs": [
    {
     "name": "stdout",
     "output_type": "stream",
     "text": [
      "(4937, 12)\n",
      "(4937,)\n",
      "[0. 1. 1. 0. 0. 1. 0. 0. 0. 0. 1. 1. 0. 0. 0. 1. 1. 1. 0. 1. 0. 0. 0. 1.\n",
      " 0. 0. 0. 1. 0. 0. 0. 0. 0. 0. 0. 0. 0. 0. 0. 1. 1. 0. 0. 0. 1. 0. 0. 0.\n",
      " 0. 0. 1. 0. 0. 0. 0. 0. 0. 0. 0. 0. 0. 1. 0. 0. 1. 0. 0. 1. 0. 1. 1. 1.\n",
      " 0. 0. 0. 0. 0. 0. 0. 0. 0. 0. 0. 1. 0. 1. 0. 0. 0. 0. 0. 0. 0. 0. 1. 0.\n",
      " 0. 0. 0. 0.]\n"
     ]
    }
   ],
   "source": [
    "# train_test_split 분할을 통한 훈련, 검증, 테스트 데이터의 분리\n",
    "# 데이터를 3그룹으로 분할: test 5% -> 95%(train 80%, validation 20%)\n",
    "seed = 0\n",
    "# stratify=Y: 0과 1의 분류 비율을 동일하게 데이터를 분할해줌.\n",
    "# 95%: 분할대기(x_train_all), 5%: 테스트(x_test)\n",
    "# x_train_all: 훈련 데이터 95% 분할 대기\n",
    "# x_test: 테스트 데이터 5% 분할\n",
    "# y_train_all: 훈련 target(class) 95% 분할 대기\n",
    "# y_test: 테스트 target(class) 5% 분할\n",
    "x_train_all, x_test, y_train_all, y_test = train_test_split(X, Y,\n",
    "                                                  stratify=Y,\n",
    "                                                  test_size=0.05,\n",
    "                                                  random_state=seed)\n",
    "# 나머지 데이터 95%를 분할, 80%: 훈련(x_train), 20%: 검증(x_val)\n",
    "# x_train: 훈련 데이터 80% 분할\n",
    "# x_val: 검증 데이터 20% 분할\n",
    "# y_train: 훈련 target(class) 80% 분할\n",
    "# y_val: 검증 target(class) 20% 분할\n",
    "x_train, x_val, y_train, y_val = train_test_split(x_train_all, y_train_all,\n",
    "                                                  stratify=y_train_all,\n",
    "                                                  test_size=0.2,\n",
    "                                                  random_state=seed)\n",
    "print(x_train.shape)\n",
    "print(y_train.shape)\n",
    "print(y_train[0:100]) # 검증 Target 100건만 출력"
   ]
  },
  {
   "cell_type": "code",
   "execution_count": 27,
   "metadata": {},
   "outputs": [
    {
     "name": "stdout",
     "output_type": "stream",
     "text": [
      "Model: \"sequential_3\"\n",
      "_________________________________________________________________\n",
      "Layer (type)                 Output Shape              Param #   \n",
      "=================================================================\n",
      "dense_6 (Dense)              (None, 10)                130       \n",
      "_________________________________________________________________\n",
      "dense_7 (Dense)              (None, 1)                 11        \n",
      "=================================================================\n",
      "Total params: 141\n",
      "Trainable params: 141\n",
      "Non-trainable params: 0\n",
      "_________________________________________________________________\n",
      "Epoch 1/1000\n",
      "3949/3949 [==============================] - 4s 1ms/step - loss: 0.6955 - accuracy: 0.8939 - val_loss: 0.1459 - val_accuracy: 0.9433\n",
      "\n",
      "Epoch 00001: val_accuracy improved from -inf to 0.94332, saving model to ./model\\001-0.9433.h5\n",
      "Epoch 2/1000\n",
      "3949/3949 [==============================] - 4s 999us/step - loss: 0.2121 - accuracy: 0.9241 - val_loss: 0.1490 - val_accuracy: 0.9464\n",
      "\n",
      "Epoch 00002: val_accuracy improved from 0.94332 to 0.94636, saving model to ./model\\002-0.9464.h5\n",
      "Epoch 3/1000\n",
      "3949/3949 [==============================] - 4s 928us/step - loss: 0.1621 - accuracy: 0.9442 - val_loss: 0.0874 - val_accuracy: 0.9686\n",
      "\n",
      "Epoch 00003: val_accuracy improved from 0.94636 to 0.96862, saving model to ./model\\003-0.9686.h5\n",
      "Epoch 4/1000\n",
      "3949/3949 [==============================] - 4s 921us/step - loss: 0.1484 - accuracy: 0.9488 - val_loss: 0.1372 - val_accuracy: 0.9555\n",
      "\n",
      "Epoch 00004: val_accuracy did not improve from 0.96862\n",
      "Epoch 5/1000\n",
      "3949/3949 [==============================] - 4s 916us/step - loss: 0.1212 - accuracy: 0.9567 - val_loss: 0.0914 - val_accuracy: 0.9666\n",
      "\n",
      "Epoch 00005: val_accuracy did not improve from 0.96862\n",
      "Epoch 6/1000\n",
      "3949/3949 [==============================] - 4s 912us/step - loss: 0.1180 - accuracy: 0.9593 - val_loss: 0.0978 - val_accuracy: 0.9646\n",
      "\n",
      "Epoch 00006: val_accuracy did not improve from 0.96862\n",
      "Epoch 7/1000\n",
      "3949/3949 [==============================] - 4s 908us/step - loss: 0.1168 - accuracy: 0.9579 - val_loss: 0.0685 - val_accuracy: 0.9787\n",
      "\n",
      "Epoch 00007: val_accuracy improved from 0.96862 to 0.97874, saving model to ./model\\007-0.9787.h5\n",
      "Epoch 8/1000\n",
      "3949/3949 [==============================] - 4s 934us/step - loss: 0.1112 - accuracy: 0.9635 - val_loss: 0.0578 - val_accuracy: 0.9808\n",
      "\n",
      "Epoch 00008: val_accuracy improved from 0.97874 to 0.98077, saving model to ./model\\008-0.9808.h5\n",
      "Epoch 9/1000\n",
      "3949/3949 [==============================] - 4s 914us/step - loss: 0.1039 - accuracy: 0.9666 - val_loss: 0.0536 - val_accuracy: 0.9818\n",
      "\n",
      "Epoch 00009: val_accuracy improved from 0.98077 to 0.98178, saving model to ./model\\009-0.9818.h5\n",
      "Epoch 10/1000\n",
      "3949/3949 [==============================] - 4s 912us/step - loss: 0.0992 - accuracy: 0.9684 - val_loss: 0.0605 - val_accuracy: 0.9808\n",
      "\n",
      "Epoch 00010: val_accuracy did not improve from 0.98178\n",
      "Epoch 11/1000\n",
      "3949/3949 [==============================] - 4s 988us/step - loss: 0.0834 - accuracy: 0.9726 - val_loss: 0.0773 - val_accuracy: 0.9737\n",
      "\n",
      "Epoch 00011: val_accuracy did not improve from 0.98178\n",
      "Epoch 12/1000\n",
      "3949/3949 [==============================] - 4s 986us/step - loss: 0.0786 - accuracy: 0.9725 - val_loss: 0.0837 - val_accuracy: 0.9676\n",
      "\n",
      "Epoch 00012: val_accuracy did not improve from 0.98178\n",
      "Epoch 13/1000\n",
      "3949/3949 [==============================] - 4s 913us/step - loss: 0.0862 - accuracy: 0.9713 - val_loss: 0.0456 - val_accuracy: 0.9868\n",
      "\n",
      "Epoch 00013: val_accuracy improved from 0.98178 to 0.98684, saving model to ./model\\013-0.9868.h5\n",
      "Epoch 14/1000\n",
      "3949/3949 [==============================] - 4s 900us/step - loss: 0.0855 - accuracy: 0.9756 - val_loss: 0.0444 - val_accuracy: 0.9858\n",
      "\n",
      "Epoch 00014: val_accuracy did not improve from 0.98684\n",
      "Epoch 15/1000\n",
      "3949/3949 [==============================] - 4s 903us/step - loss: 0.0821 - accuracy: 0.9778 - val_loss: 0.0582 - val_accuracy: 0.9767\n",
      "\n",
      "Epoch 00015: val_accuracy did not improve from 0.98684\n",
      "Epoch 16/1000\n",
      "3949/3949 [==============================] - 4s 896us/step - loss: 0.0847 - accuracy: 0.9711 - val_loss: 0.0493 - val_accuracy: 0.9838\n",
      "\n",
      "Epoch 00016: val_accuracy did not improve from 0.98684\n",
      "Epoch 17/1000\n",
      "3949/3949 [==============================] - 4s 887us/step - loss: 0.0696 - accuracy: 0.9784 - val_loss: 0.1382 - val_accuracy: 0.9484\n",
      "\n",
      "Epoch 00017: val_accuracy did not improve from 0.98684\n",
      "Epoch 18/1000\n",
      "3949/3949 [==============================] - 4s 895us/step - loss: 0.0726 - accuracy: 0.9757 - val_loss: 0.0418 - val_accuracy: 0.9879\n",
      "\n",
      "Epoch 00018: val_accuracy improved from 0.98684 to 0.98785, saving model to ./model\\018-0.9879.h5\n",
      "Epoch 19/1000\n",
      "3949/3949 [==============================] - 4s 888us/step - loss: 0.0787 - accuracy: 0.9732 - val_loss: 0.0916 - val_accuracy: 0.9686\n",
      "\n",
      "Epoch 00019: val_accuracy did not improve from 0.98785\n",
      "Epoch 20/1000\n",
      "3949/3949 [==============================] - 4s 896us/step - loss: 0.0850 - accuracy: 0.9719 - val_loss: 0.0611 - val_accuracy: 0.9828\n",
      "\n",
      "Epoch 00020: val_accuracy did not improve from 0.98785\n",
      "Epoch 21/1000\n",
      "3949/3949 [==============================] - 4s 891us/step - loss: 0.0719 - accuracy: 0.9792 - val_loss: 0.0588 - val_accuracy: 0.9818\n",
      "\n",
      "Epoch 00021: val_accuracy did not improve from 0.98785\n",
      "Epoch 22/1000\n",
      "3949/3949 [==============================] - 4s 896us/step - loss: 0.0715 - accuracy: 0.9803 - val_loss: 0.0382 - val_accuracy: 0.9889\n",
      "\n",
      "Epoch 00022: val_accuracy improved from 0.98785 to 0.98887, saving model to ./model\\022-0.9889.h5\n",
      "Epoch 23/1000\n",
      "3949/3949 [==============================] - 4s 904us/step - loss: 0.0771 - accuracy: 0.9771 - val_loss: 0.0452 - val_accuracy: 0.9838\n",
      "\n",
      "Epoch 00023: val_accuracy did not improve from 0.98887\n",
      "Epoch 24/1000\n",
      "3949/3949 [==============================] - 4s 896us/step - loss: 0.0814 - accuracy: 0.9765 - val_loss: 0.0451 - val_accuracy: 0.9818\n",
      "\n",
      "Epoch 00024: val_accuracy did not improve from 0.98887\n",
      "Epoch 25/1000\n",
      "3949/3949 [==============================] - 4s 895us/step - loss: 0.0648 - accuracy: 0.9774 - val_loss: 0.0408 - val_accuracy: 0.9868\n",
      "\n",
      "Epoch 00025: val_accuracy did not improve from 0.98887\n",
      "Epoch 26/1000\n",
      "3949/3949 [==============================] - 4s 895us/step - loss: 0.0566 - accuracy: 0.9816 - val_loss: 0.0409 - val_accuracy: 0.9879\n",
      "\n",
      "Epoch 00026: val_accuracy did not improve from 0.98887\n",
      "Epoch 27/1000\n",
      "3949/3949 [==============================] - 4s 911us/step - loss: 0.0797 - accuracy: 0.9780 - val_loss: 0.0643 - val_accuracy: 0.9787\n",
      "\n",
      "Epoch 00027: val_accuracy did not improve from 0.98887\n",
      "Epoch 28/1000\n",
      "3949/3949 [==============================] - 4s 891us/step - loss: 0.0694 - accuracy: 0.9759 - val_loss: 0.0739 - val_accuracy: 0.9717\n",
      "\n",
      "Epoch 00028: val_accuracy did not improve from 0.98887\n",
      "Epoch 29/1000\n",
      "3949/3949 [==============================] - 4s 897us/step - loss: 0.0827 - accuracy: 0.9778 - val_loss: 0.0370 - val_accuracy: 0.9889\n",
      "\n",
      "Epoch 00029: val_accuracy did not improve from 0.98887\n",
      "Epoch 30/1000\n",
      "3949/3949 [==============================] - 4s 911us/step - loss: 0.0699 - accuracy: 0.9788 - val_loss: 0.0444 - val_accuracy: 0.9818\n",
      "\n",
      "Epoch 00030: val_accuracy did not improve from 0.98887\n",
      "Runtime: 109 초\n"
     ]
    }
   ],
   "source": [
    "tf.random.set_seed(0)\n",
    "model = Sequential()\n",
    "model.add(Dense(10, input_dim=12, activation='relu')) # 기울기 소실 방지\n",
    "model.add(Dense(1, activation='sigmoid')) # True/False\n",
    "model.compile(optimizer='adam', loss='binary_crossentropy', \n",
    "              metrics=['accuracy'])\n",
    "model.summary()\n",
    "\n",
    "# patience=5: 학습 결과가 개선되지 않아도 학습을 진행할 횟수\n",
    "# restore_best_weights=True: 학습 종료시 가장 우수한 가중치, 편향으로 저장\n",
    "es= EarlyStopping(monitor='loss', patience=5, restore_best_weights=True)\n",
    "\n",
    "MODEL_DIR = './model/'\n",
    "if not os.path.exists(MODEL_DIR): # 폴더가 존재하지 않으면 생성\n",
    "    os.mkdir(MODEL_DIR) # 폴더 생성\n",
    "\n",
    "# 03d: 좌측 0 padding 정수 3자리, .4f: 실수 소수점 4자리 \n",
    "modelpath='./model/{epoch:03d}-{val_accuracy:.4f}.h5'  \n",
    "# epoch:03d: 부족한 자리를 0으로 채우는 정수 형식\n",
    "# val_accuracy:.4f: 소수이하 4째자리까지 표현 형식\n",
    "\n",
    "# 검증 정확도가 개선되었을 때만 학습 모델 파일로 저장\n",
    "# filepath=modelpath: 파일이 저장되는 경로와 파일명\n",
    "# monitor='val_accuracy': 검증 정확도 기준으로 판단\n",
    "# verbose=1: 기록되는 파일 정보 출력\n",
    "# save_best_only=True: 검증 정확도가 개선되면 파일로 저장\n",
    "mcp= ModelCheckpoint(filepath=modelpath,\n",
    "                    monitor='val_accuracy',\n",
    "                    verbose=1, save_best_only=True)\n",
    "\n",
    "start = time.time()\n",
    "hist = model.fit(x_train, y_train, validation_split=0.2, shuffle=True,\n",
    "                epochs=1000, batch_size=1, callbacks=[es, mcp])\n",
    "end=time.time()\n",
    "print('Runtime: {0:.0f} 초'.format(end-start))\n",
    "# patience=5 i5 2320: 114s, i9-10900kf: i9-11900H 54s,\n",
    "# Ryzen 7 2700X: 121s,   Ryzen 5 3600: 54s"
   ]
  },
  {
   "cell_type": "code",
   "execution_count": 28,
   "metadata": {},
   "outputs": [
    {
     "data": {
      "image/png": "[encoded data removed]",
      "text/plain": [
       "<Figure size 720x360 with 2 Axes>"
      ]
     },
     "metadata": {
      "needs_background": "light"
     },
     "output_type": "display_data"
    }
   ],
   "source": [
    "import matplotlib.pyplot as plt\n",
    "%matplotlib inline  \n",
    "\n",
    "fig, loss_ax = plt.subplots()\n",
    "# plt.figure(figsize=(6,4)) # ERROR\n",
    "fig.set_size_inches(10, 5)  # 챠트 크기 설정\n",
    "\n",
    "acc_ax = loss_ax.twinx()  # 오른쪽 y 출 설정\n",
    "\n",
    "# 왼쪽 y 축 설정\n",
    "loss_ax.plot(hist.history['loss'], 'y', label='train loss')\n",
    "loss_ax.plot(hist.history['val_loss'], 'r', label='val loss')\n",
    "loss_ax.set_ylim([0.0, 0.5]) # 값을 반영하여 변경\n",
    "\n",
    "# 오른쪽 y 축 설정\n",
    "acc_ax.plot(hist.history['accuracy'], 'b', label='train accuracy')\n",
    "acc_ax.plot(hist.history['val_accuracy'], 'g', label='val accuracy')\n",
    "acc_ax.set_ylim([0.0, 1]) # 0.0, 1: 0 ~ 100 %, 정확도임으로 변경하지 않음\n",
    "\n",
    "# 축 레이블 설정\n",
    "loss_ax.set_xlabel('epoch')  # 학습 횟수\n",
    "loss_ax.set_ylabel('loss')   # 오차\n",
    "acc_ax.set_ylabel('accuracy') # 정확도\n",
    "\n",
    "loss_ax.legend(loc='upper left') # 오차 레이블 위치\n",
    "acc_ax.legend(loc='lower left')  # 정확도 레이블 위치\n",
    "\n",
    "plt.show()"
   ]
  },
  {
   "cell_type": "code",
   "execution_count": 29,
   "metadata": {},
   "outputs": [
    {
     "name": "stdout",
     "output_type": "stream",
     "text": [
      "손실값: 0.05792376771569252 /정확도: 99.07692074775696 %\n"
     ]
    }
   ],
   "source": [
    "# verbose=0: 처리과정의 메시지 생략\n",
    "test_loss, test_acc = model.evaluate(x_test, y_test, batch_size=1, verbose=0)\n",
    "print('손실값:', test_loss, '/정확도:', (test_acc*100), '%')"
   ]
  },
  {
   "cell_type": "code",
   "execution_count": 31,
   "metadata": {},
   "outputs": [
    {
     "name": "stdout",
     "output_type": "stream",
     "text": [
      "(100, 1)\n",
      "[[3.8185008e-06]\n",
      " [2.7455945e-07]\n",
      " [9.9047422e-01]]\n"
     ]
    }
   ],
   "source": [
    "model = load_model('./model/022-0.9889.h5')\n",
    "p = model.predict(x_test[0:100])\n",
    "print(p.shape)\n",
    "print(p[0:3])"
   ]
  },
  {
   "cell_type": "code",
   "execution_count": 32,
   "metadata": {},
   "outputs": [
    {
     "name": "stdout",
     "output_type": "stream",
     "text": [
      "실제값: 0.0, 예측값: [3.8185008e-06]--> White 와인\n",
      "실제값: 0.0, 예측값: [2.7455945e-07]--> White 와인\n",
      "실제값: 1.0, 예측값: [0.9904742]--> Red 와인\n",
      "실제값: 0.0, 예측값: [0.00079319]--> White 와인\n",
      "실제값: 1.0, 예측값: [0.9991443]--> Red 와인\n",
      "실제값: 1.0, 예측값: [0.9963064]--> Red 와인\n",
      "실제값: 0.0, 예측값: [0.00054967]--> White 와인\n",
      "실제값: 0.0, 예측값: [0.00068578]--> White 와인\n",
      "실제값: 0.0, 예측값: [0.4924161]--> White 와인\n",
      "실제값: 0.0, 예측값: [0.00151291]--> White 와인\n",
      "실제값: 1.0, 예측값: [0.9933299]--> Red 와인\n",
      "실제값: 0.0, 예측값: [0.00286606]--> White 와인\n",
      "실제값: 0.0, 예측값: [0.00019872]--> White 와인\n",
      "실제값: 1.0, 예측값: [0.9988387]--> Red 와인\n",
      "실제값: 0.0, 예측값: [0.00010122]--> White 와인\n",
      "실제값: 0.0, 예측값: [0.00436956]--> White 와인\n",
      "실제값: 0.0, 예측값: [0.00086004]--> White 와인\n",
      "실제값: 1.0, 예측값: [0.9588444]--> Red 와인\n",
      "실제값: 0.0, 예측값: [0.00031617]--> White 와인\n",
      "실제값: 1.0, 예측값: [0.9995127]--> Red 와인\n",
      "실제값: 0.0, 예측값: [3.5456505e-05]--> White 와인\n",
      "실제값: 0.0, 예측값: [9.64284e-05]--> White 와인\n",
      "실제값: 0.0, 예측값: [7.069777e-05]--> White 와인\n",
      "실제값: 0.0, 예측값: [0.00041172]--> White 와인\n",
      "실제값: 1.0, 예측값: [0.9956207]--> Red 와인\n",
      "실제값: 0.0, 예측값: [7.185385e-05]--> White 와인\n",
      "실제값: 0.0, 예측값: [0.00013748]--> White 와인\n",
      "실제값: 1.0, 예측값: [0.99959445]--> Red 와인\n",
      "실제값: 0.0, 예측값: [0.00207305]--> White 와인\n",
      "실제값: 0.0, 예측값: [1.9140386e-06]--> White 와인\n",
      "실제값: 0.0, 예측값: [0.04430124]--> White 와인\n",
      "실제값: 0.0, 예측값: [0.00020587]--> White 와인\n",
      "실제값: 0.0, 예측값: [0.00164214]--> White 와인\n",
      "실제값: 0.0, 예측값: [0.53254795]--> Red 와인\n",
      "실제값: 0.0, 예측값: [4.060571e-05]--> White 와인\n",
      "실제값: 0.0, 예측값: [0.10597327]--> White 와인\n",
      "실제값: 0.0, 예측값: [0.02523959]--> White 와인\n",
      "실제값: 0.0, 예측값: [2.6446312e-05]--> White 와인\n",
      "실제값: 1.0, 예측값: [0.99679285]--> Red 와인\n",
      "실제값: 0.0, 예측값: [0.00143117]--> White 와인\n",
      "실제값: 0.0, 예측값: [0.0007585]--> White 와인\n",
      "실제값: 1.0, 예측값: [0.9976635]--> Red 와인\n",
      "실제값: 1.0, 예측값: [0.99878025]--> Red 와인\n",
      "실제값: 0.0, 예측값: [0.02842423]--> White 와인\n",
      "실제값: 1.0, 예측값: [0.9993231]--> Red 와인\n",
      "실제값: 0.0, 예측값: [0.01153573]--> White 와인\n",
      "실제값: 0.0, 예측값: [0.00047544]--> White 와인\n",
      "실제값: 0.0, 예측값: [0.00131929]--> White 와인\n",
      "실제값: 0.0, 예측값: [8.808437e-05]--> White 와인\n",
      "실제값: 1.0, 예측값: [0.9479703]--> Red 와인\n",
      "실제값: 1.0, 예측값: [0.98236537]--> Red 와인\n",
      "실제값: 1.0, 예측값: [0.9997145]--> Red 와인\n",
      "실제값: 0.0, 예측값: [0.00241566]--> White 와인\n",
      "실제값: 0.0, 예측값: [0.08327428]--> White 와인\n",
      "실제값: 0.0, 예측값: [0.00300518]--> White 와인\n",
      "실제값: 0.0, 예측값: [0.00021902]--> White 와인\n",
      "실제값: 1.0, 예측값: [0.9979352]--> Red 와인\n",
      "실제값: 0.0, 예측값: [0.00404873]--> White 와인\n",
      "실제값: 0.0, 예측값: [6.687769e-05]--> White 와인\n",
      "실제값: 1.0, 예측값: [0.99306774]--> Red 와인\n",
      "실제값: 0.0, 예측값: [0.00519043]--> White 와인\n",
      "실제값: 0.0, 예측값: [2.282276e-06]--> White 와인\n",
      "실제값: 0.0, 예측값: [0.00066653]--> White 와인\n",
      "실제값: 0.0, 예측값: [0.02070001]--> White 와인\n",
      "실제값: 0.0, 예측값: [0.00062385]--> White 와인\n",
      "실제값: 1.0, 예측값: [1.]--> Red 와인\n",
      "실제값: 0.0, 예측값: [0.00055388]--> White 와인\n",
      "실제값: 0.0, 예측값: [4.238225e-05]--> White 와인\n",
      "실제값: 1.0, 예측값: [0.99840164]--> Red 와인\n",
      "실제값: 0.0, 예측값: [0.00117648]--> White 와인\n",
      "실제값: 0.0, 예측값: [2.0496798e-06]--> White 와인\n",
      "실제값: 0.0, 예측값: [0.04116306]--> White 와인\n",
      "실제값: 0.0, 예측값: [0.0040271]--> White 와인\n",
      "실제값: 0.0, 예측값: [0.00143117]--> White 와인\n",
      "실제값: 0.0, 예측값: [1.7268407e-05]--> White 와인\n",
      "실제값: 0.0, 예측값: [0.00038984]--> White 와인\n",
      "실제값: 0.0, 예측값: [9.385572e-06]--> White 와인\n",
      "실제값: 0.0, 예측값: [3.993689e-05]--> White 와인\n",
      "실제값: 0.0, 예측값: [0.00012164]--> White 와인\n",
      "실제값: 1.0, 예측값: [0.99217737]--> Red 와인\n",
      "실제값: 0.0, 예측값: [0.00060526]--> White 와인\n",
      "실제값: 0.0, 예측값: [0.00226948]--> White 와인\n",
      "실제값: 0.0, 예측값: [0.01688316]--> White 와인\n",
      "실제값: 0.0, 예측값: [0.00013164]--> White 와인\n",
      "실제값: 0.0, 예측값: [8.3460574e-05]--> White 와인\n",
      "실제값: 0.0, 예측값: [0.02908102]--> White 와인\n",
      "실제값: 0.0, 예측값: [0.00062871]--> White 와인\n",
      "실제값: 0.0, 예측값: [0.00019884]--> White 와인\n",
      "실제값: 0.0, 예측값: [0.00457525]--> White 와인\n",
      "실제값: 0.0, 예측값: [8.437757e-05]--> White 와인\n",
      "실제값: 0.0, 예측값: [5.3881854e-06]--> White 와인\n",
      "실제값: 0.0, 예측값: [5.0105846e-05]--> White 와인\n",
      "실제값: 0.0, 예측값: [7.763472e-06]--> White 와인\n",
      "실제값: 0.0, 예측값: [0.00377718]--> White 와인\n",
      "실제값: 1.0, 예측값: [0.04032728]--> White 와인\n",
      "실제값: 0.0, 예측값: [0.00119293]--> White 와인\n",
      "실제값: 0.0, 예측값: [0.00032493]--> White 와인\n",
      "실제값: 0.0, 예측값: [0.01439986]--> White 와인\n",
      "실제값: 0.0, 예측값: [0.00018549]--> White 와인\n",
      "실제값: 0.0, 예측값: [3.3786015e-05]--> White 와인\n"
     ]
    }
   ],
   "source": [
    "for i in range(len(x_test[0:100])):\n",
    "    fmt = '실제값: {0}, 예측값: {1}'\n",
    "    print(fmt.format(y_test[i], p[i]), end='')\n",
    "    \n",
    "    # 임계값의 지정, 정확도를 참고하여 판단, 60%이상 합격: 0.6\n",
    "    if (p[i] >= 0.5): \n",
    "        print('--> Red 와인')   # 1\n",
    "    else:\n",
    "        print('--> White 와인') # 0"
   ]
  },
  {
   "cell_type": "code",
   "execution_count": 33,
   "metadata": {},
   "outputs": [
    {
     "name": "stdout",
     "output_type": "stream",
     "text": [
      "Red wine: 80\n",
      "White wine: 245\n"
     ]
    }
   ],
   "source": [
    "red = 0\n",
    "white = 0\n",
    "for i in range(len(y_test)):\n",
    "    if y_test[i] == 1:  # red wine 인지 검사\n",
    "        red = red + 1\n",
    "    else:\n",
    "        white = white + 1\n",
    "\n",
    "print('Red wine:', red)\n",
    "print('White wine:', white)"
   ]
  },
  {
   "cell_type": "code",
   "execution_count": 34,
   "metadata": {},
   "outputs": [
    {
     "name": "stdout",
     "output_type": "stream",
     "text": [
      "(325, 12)\n",
      "<class 'numpy.ndarray'>\n",
      "[[244   1]\n",
      " [  2  78]]\n"
     ]
    }
   ],
   "source": [
    "# 결과 - 혼돈 행렬, # class 0우선으로 즉 오름차순으로 표가 생성\n",
    "print(x_test.shape)\n",
    "y_test_pred = model.predict_classes(x_test)  # 모델 테스트\n",
    "c_matrix = confusion_matrix(y_test, y_test_pred) # 실제값, 예측값\n",
    "print(type(c_matrix))\n",
    "print(c_matrix)\n",
    "# [[white wine 맞춘 갯수   white wine 틀린 갯수]\n",
    "#  [red wine 틀린 갯수     red wine 맞춘 갯수]]"
   ]
  },
  {
   "cell_type": "code",
   "execution_count": 37,
   "metadata": {},
   "outputs": [
    {
     "data": {
      "image/png": "[encoded data removed]",
      "text/plain": [
       "<Figure size 432x288 with 1 Axes>"
      ]
     },
     "metadata": {
      "needs_background": "light"
     },
     "output_type": "display_data"
    },
    {
     "data": {
      "text/plain": [
       "<Figure size 432x288 with 0 Axes>"
      ]
     },
     "metadata": {},
     "output_type": "display_data"
    }
   ],
   "source": [
    "ax = sb.heatmap(c_matrix, annot=True, \n",
    "                 xticklabels=['White', 'Red'], \n",
    "                 yticklabels=['White', 'Red'], cbar=False, cmap='Blues')\n",
    "ax.set_xlabel(\"Prediction\")\n",
    "ax.set_ylabel(\"Actual\")\n",
    "plt.show()\n",
    "plt.clf()\n",
    "# [[white wine 맞춘 갯수   white wine 틀린 갯수]\n",
    "#  [red wine 틀린 갯수     red wine 맞춘 갯수]]"
   ]
  },
  {
   "cell_type": "code",
   "execution_count": 38,
   "metadata": {},
   "outputs": [
    {
     "data": {
      "image/png": "[encoded data removed]",
      "text/plain": [
       "<Figure size 432x288 with 1 Axes>"
      ]
     },
     "metadata": {
      "needs_background": "light"
     },
     "output_type": "display_data"
    },
    {
     "data": {
      "text/plain": [
       "<Figure size 432x288 with 0 Axes>"
      ]
     },
     "metadata": {},
     "output_type": "display_data"
    }
   ],
   "source": [
    "# 결과 - ROC 곡선\n",
    "y_test_pred_probs = model.predict(x_test)\n",
    "# print(y_test_pred_probs)\n",
    "FPR, TPR, _ = roc_curve(y_test, y_test_pred_probs)\n",
    "plt.plot(FPR, TPR)\n",
    "plt.plot([0,1],[0,1],'--', color='black') #diagonal line\n",
    "plt.title('ROC Curve')\n",
    "plt.xlabel('False Positive Rate')\n",
    "plt.ylabel('True Positive Rate')\n",
    "plt.show()\n",
    "plt.clf()"
   ]
  },
  {
   "cell_type": "code",
   "execution_count": null,
   "metadata": {},
   "outputs": [],
   "source": []
  },
  {
   "cell_type": "code",
   "execution_count": null,
   "metadata": {},
   "outputs": [],
   "source": []
  },
  {
   "cell_type": "code",
   "execution_count": null,
   "metadata": {},
   "outputs": [],
   "source": []
  },
  {
   "cell_type": "code",
   "execution_count": null,
   "metadata": {},
   "outputs": [],
   "source": []
  },
  {
   "cell_type": "code",
   "execution_count": null,
   "metadata": {},
   "outputs": [],
   "source": []
  }
 ],
 "metadata": {
  "kernelspec": {
   "display_name": "ai",
   "language": "python",
   "name": "ai"
  },
  "language_info": {
   "codemirror_mode": {
    "name": "ipython",
    "version": 3
   },
   "file_extension": ".py",
   "mimetype": "text/x-python",
   "name": "python",
   "nbconvert_exporter": "python",
   "pygments_lexer": "ipython3",
   "version": "3.7.11"
  }
 },
 "nbformat": 4,
 "nbformat_minor": 4
}
